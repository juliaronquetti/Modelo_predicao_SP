{
  "cells": [
    {
      "cell_type": "markdown",
      "metadata": {
        "id": "view-in-github",
        "colab_type": "text"
      },
      "source": [
        "<a href=\"https://colab.research.google.com/github/juliaronquetti/Modelo_predicao_SP/blob/main/2_imoveis_data_preparation.ipynb\" target=\"_parent\"><img src=\"https://colab.research.google.com/assets/colab-badge.svg\" alt=\"Open In Colab\"/></a>"
      ]
    },
    {
      "cell_type": "markdown",
      "metadata": {
        "id": "uiuba4biIvV4"
      },
      "source": [
        "# Data preparation and cleaning\n",
        "\n"
      ]
    },
    {
      "cell_type": "code",
      "execution_count": null,
      "metadata": {
        "id": "KH498DnDPvz3"
      },
      "outputs": [],
      "source": [
        "import pandas as pd\n",
        "import numpy as np\n",
        "pd.set_option('display.max_columns', 100)\n",
        "import matplotlib.pyplot as plt\n",
        "%matplotlib inline\n",
        "import seaborn as sns\n",
        "\n",
        "path = 'https://github.com/juliaronquetti/Modelo_predicao_SP/'"
      ]
    },
    {
      "cell_type": "code",
      "source": [
        "from sklearn.preprocessing import OneHotEncoder, LabelEncoder"
      ],
      "metadata": {
        "id": "pyQ1HZ5pIv2Y"
      },
      "execution_count": null,
      "outputs": []
    },
    {
      "cell_type": "code",
      "source": [
        "from IPython.display import display, Latex, HTML\n",
        "import warnings\n",
        "\n",
        "def gera_df_stats_latex(df_stats, titulo):\n",
        "\n",
        "  warnings.filterwarnings('ignore')\n",
        "  # latex_table = df_stats.style.to_latex(hrules=True)\n",
        "  latex_table = df_stats.to_latex(index=None)\n",
        "  # display(Latex(latex_table))\n",
        "\n",
        "  latex_table = latex_table.replace('tabular','array')\n",
        "  latex_table = latex_table.replace('toprule','hline')\n",
        "  latex_table = latex_table.replace('midrule','hline')\n",
        "  latex_table = latex_table.replace('bottomrule','hline')\n",
        "\n",
        "  latex_table = '\\\\textbf{' + titulo + '} \\\\\\\\' + latex_table\n",
        "\n",
        "  warnings.filterwarnings('default')\n",
        "  return latex_table"
      ],
      "metadata": {
        "id": "-l1Bb2K7Ygf-"
      },
      "execution_count": null,
      "outputs": []
    },
    {
      "cell_type": "markdown",
      "source": [
        "# Data"
      ],
      "metadata": {
        "id": "lH6A3FHNYi3e"
      }
    },
    {
      "cell_type": "code",
      "execution_count": null,
      "metadata": {
        "colab": {
          "base_uri": "https://localhost:8080/",
          "height": 573
        },
        "outputId": "d7e11c9f-6e86-4d66-f8ec-4fcbaa9c7f23",
        "id": "_Jk0RB_nPvz_"
      },
      "outputs": [
        {
          "output_type": "execute_result",
          "data": {
            "text/plain": [
              "                                               title   price  oldprice  \\\n",
              "0                        Apartamento Reserva Raposo   299000       NaN   \n",
              "1  Apartamento MOBILIADO com ÓTIMA Localização Ág...  350000       NaN   \n",
              "2                             Apartamento 115.000,00  115000       NaN   \n",
              "3  Apartamento 3 dorm + 1 HomeOffice, Pirituba, c...  240000  280000.0   \n",
              "4  Casa de condomínio sobrado para venda com 97 m...  570000       NaN   \n",
              "\n",
              "                                   location        date  destaque  \\\n",
              "0  São Paulo, Jardim Boa Vista (Zona Oeste)  25/04/2024      True   \n",
              "1                    São Paulo, Água Branca  25/04/2024      True   \n",
              "2           São Paulo, Parque Nações Unidas  24/04/2024      True   \n",
              "3                    São Paulo, Vila Guedes  24/04/2024      True   \n",
              "4                   São Paulo, Jardim Sarah  25/04/2024     False   \n",
              "\n",
              "      categoria                tipo  condominio  area_util quartos banheiros  \\\n",
              "0  Apartamentos              Padrão       450.0         47       2         1   \n",
              "1  Apartamentos              Padrão       380.0         43       2         1   \n",
              "2  Apartamentos              Padrão       150.0         50       2         1   \n",
              "3  Apartamentos              Padrão       400.0         50       3         1   \n",
              "4         Casas  Casa de condomínio       320.0         97       3         3   \n",
              "\n",
              "  vagas_na_garagem                                 detalhes_do_imovel  \\\n",
              "0                1               Área de serviço, Armários na cozinha   \n",
              "1                0  Academia, Área de serviço, Armários na cozinha...   \n",
              "2                1               Área de serviço, Armários na cozinha   \n",
              "3                1  Área de serviço, Armários na cozinha, Armários...   \n",
              "4                2  Ar condicionado, Área de serviço, Armários na ...   \n",
              "\n",
              "                              detalhes_do_condominio  iptu   zona  academia  \\\n",
              "0  Academia, Elevador, Permitido animais, Piscina...   NaN  OESTE         0   \n",
              "1  Academia, Condomínio fechado, Elevador, Permit...   0.0  OESTE         1   \n",
              "2                                 Condomínio fechado   0.0  OESTE         0   \n",
              "3  Condomínio fechado, Permitido animais, Piscina...   NaN  OESTE         0   \n",
              "4  Condomínio fechado, Permitido animais, Piscina...  19.0  OESTE         0   \n",
              "\n",
              "   elevador  permitido_animais  piscina  portaria  salao_de_festas  \\\n",
              "0         1                  1        0         1                1   \n",
              "1         1                  1        0         1                1   \n",
              "2         0                  0        0         0                0   \n",
              "3         0                  1        0         1                1   \n",
              "4         0                  1        1         0                0   \n",
              "\n",
              "   condominio_fechado  seguranca_24h  portao_eletronico  area_murada  \\\n",
              "0                   0              0                  0            0   \n",
              "1                   1              1                  0            0   \n",
              "2                   1              0                  0            0   \n",
              "3                   1              1                  0            0   \n",
              "4                   1              0                  1            0   \n",
              "\n",
              "   area_de_servico  armarios_na_cozinha  armarios_no_quarto  churrasqueira  \\\n",
              "0                1                    1                   0              0   \n",
              "1                1                    1                   1              1   \n",
              "2                1                    1                   0              0   \n",
              "3                1                    1                   1              0   \n",
              "4                1                    1                   1              0   \n",
              "\n",
              "   mobiliado  quarto_de_servico  ar_condicionado  porteiro_24h  varanda  \\\n",
              "0          0                  0                0             0        0   \n",
              "1          1                  0                0             0        0   \n",
              "2          0                  0                0             0        0   \n",
              "3          1                  1                0             0        0   \n",
              "4          0                  0                1             1        0   \n",
              "\n",
              "                 bairro  img_index  \n",
              "0      Jardim Boa Vista          0  \n",
              "1           Água Branca          1  \n",
              "2  Parque Nações Unidas          2  \n",
              "3           Vila Guedes          3  \n",
              "4          Jardim Sarah          4  "
            ],
            "text/html": [
              "\n",
              "  <div id=\"df-49fbd05c-6427-4e8d-bad0-251a6c00f86b\" class=\"colab-df-container\">\n",
              "    <div>\n",
              "<style scoped>\n",
              "    .dataframe tbody tr th:only-of-type {\n",
              "        vertical-align: middle;\n",
              "    }\n",
              "\n",
              "    .dataframe tbody tr th {\n",
              "        vertical-align: top;\n",
              "    }\n",
              "\n",
              "    .dataframe thead th {\n",
              "        text-align: right;\n",
              "    }\n",
              "</style>\n",
              "<table border=\"1\" class=\"dataframe\">\n",
              "  <thead>\n",
              "    <tr style=\"text-align: right;\">\n",
              "      <th></th>\n",
              "      <th>title</th>\n",
              "      <th>price</th>\n",
              "      <th>oldprice</th>\n",
              "      <th>location</th>\n",
              "      <th>date</th>\n",
              "      <th>destaque</th>\n",
              "      <th>categoria</th>\n",
              "      <th>tipo</th>\n",
              "      <th>condominio</th>\n",
              "      <th>area_util</th>\n",
              "      <th>quartos</th>\n",
              "      <th>banheiros</th>\n",
              "      <th>vagas_na_garagem</th>\n",
              "      <th>detalhes_do_imovel</th>\n",
              "      <th>detalhes_do_condominio</th>\n",
              "      <th>iptu</th>\n",
              "      <th>zona</th>\n",
              "      <th>academia</th>\n",
              "      <th>elevador</th>\n",
              "      <th>permitido_animais</th>\n",
              "      <th>piscina</th>\n",
              "      <th>portaria</th>\n",
              "      <th>salao_de_festas</th>\n",
              "      <th>condominio_fechado</th>\n",
              "      <th>seguranca_24h</th>\n",
              "      <th>portao_eletronico</th>\n",
              "      <th>area_murada</th>\n",
              "      <th>area_de_servico</th>\n",
              "      <th>armarios_na_cozinha</th>\n",
              "      <th>armarios_no_quarto</th>\n",
              "      <th>churrasqueira</th>\n",
              "      <th>mobiliado</th>\n",
              "      <th>quarto_de_servico</th>\n",
              "      <th>ar_condicionado</th>\n",
              "      <th>porteiro_24h</th>\n",
              "      <th>varanda</th>\n",
              "      <th>bairro</th>\n",
              "      <th>img_index</th>\n",
              "    </tr>\n",
              "  </thead>\n",
              "  <tbody>\n",
              "    <tr>\n",
              "      <th>0</th>\n",
              "      <td>Apartamento Reserva Raposo</td>\n",
              "      <td>299000</td>\n",
              "      <td>NaN</td>\n",
              "      <td>São Paulo, Jardim Boa Vista (Zona Oeste)</td>\n",
              "      <td>25/04/2024</td>\n",
              "      <td>True</td>\n",
              "      <td>Apartamentos</td>\n",
              "      <td>Padrão</td>\n",
              "      <td>450.0</td>\n",
              "      <td>47</td>\n",
              "      <td>2</td>\n",
              "      <td>1</td>\n",
              "      <td>1</td>\n",
              "      <td>Área de serviço, Armários na cozinha</td>\n",
              "      <td>Academia, Elevador, Permitido animais, Piscina...</td>\n",
              "      <td>NaN</td>\n",
              "      <td>OESTE</td>\n",
              "      <td>0</td>\n",
              "      <td>1</td>\n",
              "      <td>1</td>\n",
              "      <td>0</td>\n",
              "      <td>1</td>\n",
              "      <td>1</td>\n",
              "      <td>0</td>\n",
              "      <td>0</td>\n",
              "      <td>0</td>\n",
              "      <td>0</td>\n",
              "      <td>1</td>\n",
              "      <td>1</td>\n",
              "      <td>0</td>\n",
              "      <td>0</td>\n",
              "      <td>0</td>\n",
              "      <td>0</td>\n",
              "      <td>0</td>\n",
              "      <td>0</td>\n",
              "      <td>0</td>\n",
              "      <td>Jardim Boa Vista</td>\n",
              "      <td>0</td>\n",
              "    </tr>\n",
              "    <tr>\n",
              "      <th>1</th>\n",
              "      <td>Apartamento MOBILIADO com ÓTIMA Localização Ág...</td>\n",
              "      <td>350000</td>\n",
              "      <td>NaN</td>\n",
              "      <td>São Paulo, Água Branca</td>\n",
              "      <td>25/04/2024</td>\n",
              "      <td>True</td>\n",
              "      <td>Apartamentos</td>\n",
              "      <td>Padrão</td>\n",
              "      <td>380.0</td>\n",
              "      <td>43</td>\n",
              "      <td>2</td>\n",
              "      <td>1</td>\n",
              "      <td>0</td>\n",
              "      <td>Academia, Área de serviço, Armários na cozinha...</td>\n",
              "      <td>Academia, Condomínio fechado, Elevador, Permit...</td>\n",
              "      <td>0.0</td>\n",
              "      <td>OESTE</td>\n",
              "      <td>1</td>\n",
              "      <td>1</td>\n",
              "      <td>1</td>\n",
              "      <td>0</td>\n",
              "      <td>1</td>\n",
              "      <td>1</td>\n",
              "      <td>1</td>\n",
              "      <td>1</td>\n",
              "      <td>0</td>\n",
              "      <td>0</td>\n",
              "      <td>1</td>\n",
              "      <td>1</td>\n",
              "      <td>1</td>\n",
              "      <td>1</td>\n",
              "      <td>1</td>\n",
              "      <td>0</td>\n",
              "      <td>0</td>\n",
              "      <td>0</td>\n",
              "      <td>0</td>\n",
              "      <td>Água Branca</td>\n",
              "      <td>1</td>\n",
              "    </tr>\n",
              "    <tr>\n",
              "      <th>2</th>\n",
              "      <td>Apartamento 115.000,00</td>\n",
              "      <td>115000</td>\n",
              "      <td>NaN</td>\n",
              "      <td>São Paulo, Parque Nações Unidas</td>\n",
              "      <td>24/04/2024</td>\n",
              "      <td>True</td>\n",
              "      <td>Apartamentos</td>\n",
              "      <td>Padrão</td>\n",
              "      <td>150.0</td>\n",
              "      <td>50</td>\n",
              "      <td>2</td>\n",
              "      <td>1</td>\n",
              "      <td>1</td>\n",
              "      <td>Área de serviço, Armários na cozinha</td>\n",
              "      <td>Condomínio fechado</td>\n",
              "      <td>0.0</td>\n",
              "      <td>OESTE</td>\n",
              "      <td>0</td>\n",
              "      <td>0</td>\n",
              "      <td>0</td>\n",
              "      <td>0</td>\n",
              "      <td>0</td>\n",
              "      <td>0</td>\n",
              "      <td>1</td>\n",
              "      <td>0</td>\n",
              "      <td>0</td>\n",
              "      <td>0</td>\n",
              "      <td>1</td>\n",
              "      <td>1</td>\n",
              "      <td>0</td>\n",
              "      <td>0</td>\n",
              "      <td>0</td>\n",
              "      <td>0</td>\n",
              "      <td>0</td>\n",
              "      <td>0</td>\n",
              "      <td>0</td>\n",
              "      <td>Parque Nações Unidas</td>\n",
              "      <td>2</td>\n",
              "    </tr>\n",
              "    <tr>\n",
              "      <th>3</th>\n",
              "      <td>Apartamento 3 dorm + 1 HomeOffice, Pirituba, c...</td>\n",
              "      <td>240000</td>\n",
              "      <td>280000.0</td>\n",
              "      <td>São Paulo, Vila Guedes</td>\n",
              "      <td>24/04/2024</td>\n",
              "      <td>True</td>\n",
              "      <td>Apartamentos</td>\n",
              "      <td>Padrão</td>\n",
              "      <td>400.0</td>\n",
              "      <td>50</td>\n",
              "      <td>3</td>\n",
              "      <td>1</td>\n",
              "      <td>1</td>\n",
              "      <td>Área de serviço, Armários na cozinha, Armários...</td>\n",
              "      <td>Condomínio fechado, Permitido animais, Piscina...</td>\n",
              "      <td>NaN</td>\n",
              "      <td>OESTE</td>\n",
              "      <td>0</td>\n",
              "      <td>0</td>\n",
              "      <td>1</td>\n",
              "      <td>0</td>\n",
              "      <td>1</td>\n",
              "      <td>1</td>\n",
              "      <td>1</td>\n",
              "      <td>1</td>\n",
              "      <td>0</td>\n",
              "      <td>0</td>\n",
              "      <td>1</td>\n",
              "      <td>1</td>\n",
              "      <td>1</td>\n",
              "      <td>0</td>\n",
              "      <td>1</td>\n",
              "      <td>1</td>\n",
              "      <td>0</td>\n",
              "      <td>0</td>\n",
              "      <td>0</td>\n",
              "      <td>Vila Guedes</td>\n",
              "      <td>3</td>\n",
              "    </tr>\n",
              "    <tr>\n",
              "      <th>4</th>\n",
              "      <td>Casa de condomínio sobrado para venda com 97 m...</td>\n",
              "      <td>570000</td>\n",
              "      <td>NaN</td>\n",
              "      <td>São Paulo, Jardim Sarah</td>\n",
              "      <td>25/04/2024</td>\n",
              "      <td>False</td>\n",
              "      <td>Casas</td>\n",
              "      <td>Casa de condomínio</td>\n",
              "      <td>320.0</td>\n",
              "      <td>97</td>\n",
              "      <td>3</td>\n",
              "      <td>3</td>\n",
              "      <td>2</td>\n",
              "      <td>Ar condicionado, Área de serviço, Armários na ...</td>\n",
              "      <td>Condomínio fechado, Permitido animais, Piscina...</td>\n",
              "      <td>19.0</td>\n",
              "      <td>OESTE</td>\n",
              "      <td>0</td>\n",
              "      <td>0</td>\n",
              "      <td>1</td>\n",
              "      <td>1</td>\n",
              "      <td>0</td>\n",
              "      <td>0</td>\n",
              "      <td>1</td>\n",
              "      <td>0</td>\n",
              "      <td>1</td>\n",
              "      <td>0</td>\n",
              "      <td>1</td>\n",
              "      <td>1</td>\n",
              "      <td>1</td>\n",
              "      <td>0</td>\n",
              "      <td>0</td>\n",
              "      <td>0</td>\n",
              "      <td>1</td>\n",
              "      <td>1</td>\n",
              "      <td>0</td>\n",
              "      <td>Jardim Sarah</td>\n",
              "      <td>4</td>\n",
              "    </tr>\n",
              "  </tbody>\n",
              "</table>\n",
              "</div>\n",
              "    <div class=\"colab-df-buttons\">\n",
              "\n",
              "  <div class=\"colab-df-container\">\n",
              "    <button class=\"colab-df-convert\" onclick=\"convertToInteractive('df-49fbd05c-6427-4e8d-bad0-251a6c00f86b')\"\n",
              "            title=\"Convert this dataframe to an interactive table.\"\n",
              "            style=\"display:none;\">\n",
              "\n",
              "  <svg xmlns=\"http://www.w3.org/2000/svg\" height=\"24px\" viewBox=\"0 -960 960 960\">\n",
              "    <path d=\"M120-120v-720h720v720H120Zm60-500h600v-160H180v160Zm220 220h160v-160H400v160Zm0 220h160v-160H400v160ZM180-400h160v-160H180v160Zm440 0h160v-160H620v160ZM180-180h160v-160H180v160Zm440 0h160v-160H620v160Z\"/>\n",
              "  </svg>\n",
              "    </button>\n",
              "\n",
              "  <style>\n",
              "    .colab-df-container {\n",
              "      display:flex;\n",
              "      gap: 12px;\n",
              "    }\n",
              "\n",
              "    .colab-df-convert {\n",
              "      background-color: #E8F0FE;\n",
              "      border: none;\n",
              "      border-radius: 50%;\n",
              "      cursor: pointer;\n",
              "      display: none;\n",
              "      fill: #1967D2;\n",
              "      height: 32px;\n",
              "      padding: 0 0 0 0;\n",
              "      width: 32px;\n",
              "    }\n",
              "\n",
              "    .colab-df-convert:hover {\n",
              "      background-color: #E2EBFA;\n",
              "      box-shadow: 0px 1px 2px rgba(60, 64, 67, 0.3), 0px 1px 3px 1px rgba(60, 64, 67, 0.15);\n",
              "      fill: #174EA6;\n",
              "    }\n",
              "\n",
              "    .colab-df-buttons div {\n",
              "      margin-bottom: 4px;\n",
              "    }\n",
              "\n",
              "    [theme=dark] .colab-df-convert {\n",
              "      background-color: #3B4455;\n",
              "      fill: #D2E3FC;\n",
              "    }\n",
              "\n",
              "    [theme=dark] .colab-df-convert:hover {\n",
              "      background-color: #434B5C;\n",
              "      box-shadow: 0px 1px 3px 1px rgba(0, 0, 0, 0.15);\n",
              "      filter: drop-shadow(0px 1px 2px rgba(0, 0, 0, 0.3));\n",
              "      fill: #FFFFFF;\n",
              "    }\n",
              "  </style>\n",
              "\n",
              "    <script>\n",
              "      const buttonEl =\n",
              "        document.querySelector('#df-49fbd05c-6427-4e8d-bad0-251a6c00f86b button.colab-df-convert');\n",
              "      buttonEl.style.display =\n",
              "        google.colab.kernel.accessAllowed ? 'block' : 'none';\n",
              "\n",
              "      async function convertToInteractive(key) {\n",
              "        const element = document.querySelector('#df-49fbd05c-6427-4e8d-bad0-251a6c00f86b');\n",
              "        const dataTable =\n",
              "          await google.colab.kernel.invokeFunction('convertToInteractive',\n",
              "                                                    [key], {});\n",
              "        if (!dataTable) return;\n",
              "\n",
              "        const docLinkHtml = 'Like what you see? Visit the ' +\n",
              "          '<a target=\"_blank\" href=https://colab.research.google.com/notebooks/data_table.ipynb>data table notebook</a>'\n",
              "          + ' to learn more about interactive tables.';\n",
              "        element.innerHTML = '';\n",
              "        dataTable['output_type'] = 'display_data';\n",
              "        await google.colab.output.renderOutput(dataTable, element);\n",
              "        const docLink = document.createElement('div');\n",
              "        docLink.innerHTML = docLinkHtml;\n",
              "        element.appendChild(docLink);\n",
              "      }\n",
              "    </script>\n",
              "  </div>\n",
              "\n",
              "\n",
              "<div id=\"df-bcf72cb1-aa39-4292-9648-aa95ff53e2ba\">\n",
              "  <button class=\"colab-df-quickchart\" onclick=\"quickchart('df-bcf72cb1-aa39-4292-9648-aa95ff53e2ba')\"\n",
              "            title=\"Suggest charts\"\n",
              "            style=\"display:none;\">\n",
              "\n",
              "<svg xmlns=\"http://www.w3.org/2000/svg\" height=\"24px\"viewBox=\"0 0 24 24\"\n",
              "     width=\"24px\">\n",
              "    <g>\n",
              "        <path d=\"M19 3H5c-1.1 0-2 .9-2 2v14c0 1.1.9 2 2 2h14c1.1 0 2-.9 2-2V5c0-1.1-.9-2-2-2zM9 17H7v-7h2v7zm4 0h-2V7h2v10zm4 0h-2v-4h2v4z\"/>\n",
              "    </g>\n",
              "</svg>\n",
              "  </button>\n",
              "\n",
              "<style>\n",
              "  .colab-df-quickchart {\n",
              "      --bg-color: #E8F0FE;\n",
              "      --fill-color: #1967D2;\n",
              "      --hover-bg-color: #E2EBFA;\n",
              "      --hover-fill-color: #174EA6;\n",
              "      --disabled-fill-color: #AAA;\n",
              "      --disabled-bg-color: #DDD;\n",
              "  }\n",
              "\n",
              "  [theme=dark] .colab-df-quickchart {\n",
              "      --bg-color: #3B4455;\n",
              "      --fill-color: #D2E3FC;\n",
              "      --hover-bg-color: #434B5C;\n",
              "      --hover-fill-color: #FFFFFF;\n",
              "      --disabled-bg-color: #3B4455;\n",
              "      --disabled-fill-color: #666;\n",
              "  }\n",
              "\n",
              "  .colab-df-quickchart {\n",
              "    background-color: var(--bg-color);\n",
              "    border: none;\n",
              "    border-radius: 50%;\n",
              "    cursor: pointer;\n",
              "    display: none;\n",
              "    fill: var(--fill-color);\n",
              "    height: 32px;\n",
              "    padding: 0;\n",
              "    width: 32px;\n",
              "  }\n",
              "\n",
              "  .colab-df-quickchart:hover {\n",
              "    background-color: var(--hover-bg-color);\n",
              "    box-shadow: 0 1px 2px rgba(60, 64, 67, 0.3), 0 1px 3px 1px rgba(60, 64, 67, 0.15);\n",
              "    fill: var(--button-hover-fill-color);\n",
              "  }\n",
              "\n",
              "  .colab-df-quickchart-complete:disabled,\n",
              "  .colab-df-quickchart-complete:disabled:hover {\n",
              "    background-color: var(--disabled-bg-color);\n",
              "    fill: var(--disabled-fill-color);\n",
              "    box-shadow: none;\n",
              "  }\n",
              "\n",
              "  .colab-df-spinner {\n",
              "    border: 2px solid var(--fill-color);\n",
              "    border-color: transparent;\n",
              "    border-bottom-color: var(--fill-color);\n",
              "    animation:\n",
              "      spin 1s steps(1) infinite;\n",
              "  }\n",
              "\n",
              "  @keyframes spin {\n",
              "    0% {\n",
              "      border-color: transparent;\n",
              "      border-bottom-color: var(--fill-color);\n",
              "      border-left-color: var(--fill-color);\n",
              "    }\n",
              "    20% {\n",
              "      border-color: transparent;\n",
              "      border-left-color: var(--fill-color);\n",
              "      border-top-color: var(--fill-color);\n",
              "    }\n",
              "    30% {\n",
              "      border-color: transparent;\n",
              "      border-left-color: var(--fill-color);\n",
              "      border-top-color: var(--fill-color);\n",
              "      border-right-color: var(--fill-color);\n",
              "    }\n",
              "    40% {\n",
              "      border-color: transparent;\n",
              "      border-right-color: var(--fill-color);\n",
              "      border-top-color: var(--fill-color);\n",
              "    }\n",
              "    60% {\n",
              "      border-color: transparent;\n",
              "      border-right-color: var(--fill-color);\n",
              "    }\n",
              "    80% {\n",
              "      border-color: transparent;\n",
              "      border-right-color: var(--fill-color);\n",
              "      border-bottom-color: var(--fill-color);\n",
              "    }\n",
              "    90% {\n",
              "      border-color: transparent;\n",
              "      border-bottom-color: var(--fill-color);\n",
              "    }\n",
              "  }\n",
              "</style>\n",
              "\n",
              "  <script>\n",
              "    async function quickchart(key) {\n",
              "      const quickchartButtonEl =\n",
              "        document.querySelector('#' + key + ' button');\n",
              "      quickchartButtonEl.disabled = true;  // To prevent multiple clicks.\n",
              "      quickchartButtonEl.classList.add('colab-df-spinner');\n",
              "      try {\n",
              "        const charts = await google.colab.kernel.invokeFunction(\n",
              "            'suggestCharts', [key], {});\n",
              "      } catch (error) {\n",
              "        console.error('Error during call to suggestCharts:', error);\n",
              "      }\n",
              "      quickchartButtonEl.classList.remove('colab-df-spinner');\n",
              "      quickchartButtonEl.classList.add('colab-df-quickchart-complete');\n",
              "    }\n",
              "    (() => {\n",
              "      let quickchartButtonEl =\n",
              "        document.querySelector('#df-bcf72cb1-aa39-4292-9648-aa95ff53e2ba button');\n",
              "      quickchartButtonEl.style.display =\n",
              "        google.colab.kernel.accessAllowed ? 'block' : 'none';\n",
              "    })();\n",
              "  </script>\n",
              "</div>\n",
              "\n",
              "    </div>\n",
              "  </div>\n"
            ],
            "application/vnd.google.colaboratory.intrinsic+json": {
              "type": "dataframe",
              "variable_name": "df"
            }
          },
          "metadata": {},
          "execution_count": 4
        }
      ],
      "source": [
        "df = pd.read_csv(path + 'imoveis_raw.csv')\n",
        "df.head()"
      ]
    },
    {
      "cell_type": "code",
      "execution_count": null,
      "metadata": {
        "colab": {
          "base_uri": "https://localhost:8080/"
        },
        "id": "wTdi3Sab3mQI",
        "outputId": "e25d8c33-6a41-42f8-a4ed-2d0536fd77c8"
      },
      "outputs": [
        {
          "output_type": "stream",
          "name": "stdout",
          "text": [
            "Before, number of records:  23433\n"
          ]
        }
      ],
      "source": [
        "before = len(df)\n",
        "print('Before, number of records: ', before)\n"
      ]
    },
    {
      "cell_type": "markdown",
      "source": [
        "# Dados ausentes"
      ],
      "metadata": {
        "id": "RY0VXb0fSj9l"
      }
    },
    {
      "cell_type": "code",
      "execution_count": null,
      "metadata": {
        "colab": {
          "base_uri": "https://localhost:8080/",
          "height": 272
        },
        "id": "NPE7ifG53fQn",
        "outputId": "38816530-37f2-402d-f4ea-00c1cafd6a67"
      },
      "outputs": [
        {
          "output_type": "execute_result",
          "data": {
            "text/plain": [
              "oldprice                  0.962019\n",
              "condominio                0.007127\n",
              "banheiros                 0.000256\n",
              "detalhes_do_imovel        0.304485\n",
              "detalhes_do_condominio    0.303333\n",
              "iptu                      0.008578\n",
              "dtype: float64"
            ],
            "text/html": [
              "<div>\n",
              "<style scoped>\n",
              "    .dataframe tbody tr th:only-of-type {\n",
              "        vertical-align: middle;\n",
              "    }\n",
              "\n",
              "    .dataframe tbody tr th {\n",
              "        vertical-align: top;\n",
              "    }\n",
              "\n",
              "    .dataframe thead th {\n",
              "        text-align: right;\n",
              "    }\n",
              "</style>\n",
              "<table border=\"1\" class=\"dataframe\">\n",
              "  <thead>\n",
              "    <tr style=\"text-align: right;\">\n",
              "      <th></th>\n",
              "      <th>0</th>\n",
              "    </tr>\n",
              "  </thead>\n",
              "  <tbody>\n",
              "    <tr>\n",
              "      <th>oldprice</th>\n",
              "      <td>0.962019</td>\n",
              "    </tr>\n",
              "    <tr>\n",
              "      <th>condominio</th>\n",
              "      <td>0.007127</td>\n",
              "    </tr>\n",
              "    <tr>\n",
              "      <th>banheiros</th>\n",
              "      <td>0.000256</td>\n",
              "    </tr>\n",
              "    <tr>\n",
              "      <th>detalhes_do_imovel</th>\n",
              "      <td>0.304485</td>\n",
              "    </tr>\n",
              "    <tr>\n",
              "      <th>detalhes_do_condominio</th>\n",
              "      <td>0.303333</td>\n",
              "    </tr>\n",
              "    <tr>\n",
              "      <th>iptu</th>\n",
              "      <td>0.008578</td>\n",
              "    </tr>\n",
              "  </tbody>\n",
              "</table>\n",
              "</div><br><label><b>dtype:</b> float64</label>"
            ]
          },
          "metadata": {},
          "execution_count": 6
        }
      ],
      "source": [
        "df.isnull().sum()[ df.isnull().sum()>0 ] / len(df)"
      ]
    },
    {
      "cell_type": "code",
      "execution_count": null,
      "metadata": {
        "colab": {
          "base_uri": "https://localhost:8080/",
          "height": 147
        },
        "id": "kgAcVjjwLSjH",
        "outputId": "042e8abd-f01b-43a8-eca9-aa3e7e8d8a89"
      },
      "outputs": [
        {
          "output_type": "execute_result",
          "data": {
            "text/plain": [
              "detalhes_do_imovel        0.304145\n",
              "detalhes_do_condominio    0.301687\n",
              "dtype: float64"
            ],
            "text/html": [
              "<div>\n",
              "<style scoped>\n",
              "    .dataframe tbody tr th:only-of-type {\n",
              "        vertical-align: middle;\n",
              "    }\n",
              "\n",
              "    .dataframe tbody tr th {\n",
              "        vertical-align: top;\n",
              "    }\n",
              "\n",
              "    .dataframe thead th {\n",
              "        text-align: right;\n",
              "    }\n",
              "</style>\n",
              "<table border=\"1\" class=\"dataframe\">\n",
              "  <thead>\n",
              "    <tr style=\"text-align: right;\">\n",
              "      <th></th>\n",
              "      <th>0</th>\n",
              "    </tr>\n",
              "  </thead>\n",
              "  <tbody>\n",
              "    <tr>\n",
              "      <th>detalhes_do_imovel</th>\n",
              "      <td>0.304145</td>\n",
              "    </tr>\n",
              "    <tr>\n",
              "      <th>detalhes_do_condominio</th>\n",
              "      <td>0.301687</td>\n",
              "    </tr>\n",
              "  </tbody>\n",
              "</table>\n",
              "</div><br><label><b>dtype:</b> float64</label>"
            ]
          },
          "metadata": {},
          "execution_count": 7
        }
      ],
      "source": [
        "df.dropna(subset=['condominio','iptu','banheiros'],inplace=True)\n",
        "df.drop(['oldprice'], axis=1, inplace=True)\n",
        "df.reset_index(drop=True, inplace=True)\n",
        "\n",
        "df.isnull().sum()[ df.isnull().sum()>0 ] / len(df)"
      ]
    },
    {
      "cell_type": "markdown",
      "source": [
        "# Tipos e conversões"
      ],
      "metadata": {
        "id": "4whP-MyISpnm"
      }
    },
    {
      "cell_type": "code",
      "execution_count": null,
      "metadata": {
        "id": "aTtfb489LfaV"
      },
      "outputs": [],
      "source": [
        "df['quartos'] = np.where(df['quartos'] == '5 ou mais', 5, df['quartos'])\n",
        "df['quartos'] = df['quartos'].astype('int32')\n",
        "\n",
        "df['banheiros'] = np.where(df['banheiros'] == '5 ou mais', 5, df['banheiros'])\n",
        "df['banheiros'] = df['banheiros'].astype(int)\n",
        "\n",
        "df['vagas_na_garagem'] = np.where(df['vagas_na_garagem'] == '5 ou mais', 5, df['vagas_na_garagem'])\n",
        "df['vagas_na_garagem'] = df['vagas_na_garagem'].astype(int)"
      ]
    },
    {
      "cell_type": "code",
      "source": [
        "campos_numericos = df.select_dtypes(include=['number']).columns\n",
        "campos_numericos"
      ],
      "metadata": {
        "colab": {
          "base_uri": "https://localhost:8080/"
        },
        "id": "HMvLH7T0R03Y",
        "outputId": "35b3c594-7f07-4088-a9ba-e2b535ce5195"
      },
      "execution_count": null,
      "outputs": [
        {
          "output_type": "execute_result",
          "data": {
            "text/plain": [
              "Index(['price', 'condominio', 'area_util', 'quartos', 'banheiros',\n",
              "       'vagas_na_garagem', 'iptu', 'academia', 'elevador', 'permitido_animais',\n",
              "       'piscina', 'portaria', 'salao_de_festas', 'condominio_fechado',\n",
              "       'seguranca_24h', 'portao_eletronico', 'area_murada', 'area_de_servico',\n",
              "       'armarios_na_cozinha', 'armarios_no_quarto', 'churrasqueira',\n",
              "       'mobiliado', 'quarto_de_servico', 'ar_condicionado', 'porteiro_24h',\n",
              "       'varanda', 'img_index'],\n",
              "      dtype='object')"
            ]
          },
          "metadata": {},
          "execution_count": 9
        }
      ]
    },
    {
      "cell_type": "code",
      "execution_count": null,
      "metadata": {
        "id": "BVlAVsPGIvV5"
      },
      "outputs": [],
      "source": [
        "df[campos_numericos] = df[campos_numericos].astype(int)"
      ]
    },
    {
      "cell_type": "markdown",
      "source": [
        "# Outliers"
      ],
      "metadata": {
        "id": "UWh4BdB-SuqV"
      }
    },
    {
      "cell_type": "code",
      "execution_count": null,
      "metadata": {
        "colab": {
          "base_uri": "https://localhost:8080/"
        },
        "id": "ZvitZgtQN9mi",
        "outputId": "fa746288-2b76-4fa1-b4c5-fc03e08ae22c"
      },
      "outputs": [
        {
          "output_type": "stream",
          "name": "stdout",
          "text": [
            "Atributos com outliers:  {'price': 1476, 'condominio': 1134, 'area_util': 1213, 'iptu': 2553}\n"
          ]
        }
      ],
      "source": [
        "def detect_outliers_iqr(data):\n",
        "  q1 = data.quantile(0.25)\n",
        "  q3 = data.quantile(0.75)\n",
        "  iqr = q3 - q1\n",
        "  lower_bound = q1 - 1.5 * iqr\n",
        "  upper_bound = q3 + 1.5 * iqr\n",
        "\n",
        "  outliers = []\n",
        "  for index, row in pd.DataFrame(data).iterrows():\n",
        "    if row.values < lower_bound or row.values > upper_bound:\n",
        "      outliers.append(index)\n",
        "\n",
        "  # outliers = [i for i, x in enumerate(data) if (x < lower_bound or x > upper_bound)] # much more eficient, but not garantee return indexes\n",
        "  return outliers\n",
        "\n",
        "atributos_com_outliers = {}\n",
        "records_com_outliers = {}\n",
        "\n",
        "for atributo in campos_numericos:\n",
        "  if df[atributo].max() > 5: # excluí variáveis binárias ou de quantidades discretas como número de dormitórios e garagens\n",
        "    outliers = detect_outliers_iqr(df[atributo])\n",
        "    if len(outliers) > 0:\n",
        "      atributos_com_outliers[atributo] = len(outliers)\n",
        "      records_com_outliers[atributo] = outliers\n",
        "\n",
        "print(\"Atributos com outliers: \", atributos_com_outliers)\n"
      ]
    },
    {
      "cell_type": "code",
      "execution_count": null,
      "metadata": {
        "colab": {
          "base_uri": "https://localhost:8080/",
          "height": 332
        },
        "id": "6uKaJesvNPEP",
        "outputId": "44f64eb7-2af5-414f-aac0-38d99e361b6d"
      },
      "outputs": [
        {
          "output_type": "display_data",
          "data": {
            "text/plain": [
              "<Figure size 500x300 with 1 Axes>"
            ],
            "image/png": "[encoded data removed]"
          },
          "metadata": {}
        }
      ],
      "source": [
        "plt.figure(figsize=(5,3))\n",
        "sns.boxplot(data=df[atributos_com_outliers.keys()],orient='h')\n",
        "plt.title('Outliers')\n",
        "plt.show()\n"
      ]
    },
    {
      "cell_type": "code",
      "execution_count": null,
      "metadata": {
        "colab": {
          "base_uri": "https://localhost:8080/",
          "height": 300
        },
        "id": "FdLBqINkP7YI",
        "outputId": "ad33753f-9c5b-4f8f-c134-261f196aa180"
      },
      "outputs": [
        {
          "output_type": "execute_result",
          "data": {
            "text/plain": [
              "              price    condominio      area_util          iptu\n",
              "count  2.318300e+04  2.318300e+04   23183.000000  2.318300e+04\n",
              "mean   1.390773e+06  2.316329e+03     241.291377  1.791364e+03\n",
              "std    1.775588e+06  8.355912e+04    7246.571800  9.061262e+04\n",
              "min    0.000000e+00  0.000000e+00       0.000000  0.000000e+00\n",
              "25%    5.290000e+05  1.000000e+00      65.000000  1.000000e+00\n",
              "50%    9.330000e+05  7.530000e+02     108.000000  1.770000e+02\n",
              "75%    1.650000e+06  1.500000e+03     170.000000  5.700000e+02\n",
              "max    4.590000e+07  1.180000e+07  608608.000000  9.751020e+06"
            ],
            "text/html": [
              "\n",
              "  <div id=\"df-b74e8d5d-6043-4eca-9910-89a68cca78cd\" class=\"colab-df-container\">\n",
              "    <div>\n",
              "<style scoped>\n",
              "    .dataframe tbody tr th:only-of-type {\n",
              "        vertical-align: middle;\n",
              "    }\n",
              "\n",
              "    .dataframe tbody tr th {\n",
              "        vertical-align: top;\n",
              "    }\n",
              "\n",
              "    .dataframe thead th {\n",
              "        text-align: right;\n",
              "    }\n",
              "</style>\n",
              "<table border=\"1\" class=\"dataframe\">\n",
              "  <thead>\n",
              "    <tr style=\"text-align: right;\">\n",
              "      <th></th>\n",
              "      <th>price</th>\n",
              "      <th>condominio</th>\n",
              "      <th>area_util</th>\n",
              "      <th>iptu</th>\n",
              "    </tr>\n",
              "  </thead>\n",
              "  <tbody>\n",
              "    <tr>\n",
              "      <th>count</th>\n",
              "      <td>2.318300e+04</td>\n",
              "      <td>2.318300e+04</td>\n",
              "      <td>23183.000000</td>\n",
              "      <td>2.318300e+04</td>\n",
              "    </tr>\n",
              "    <tr>\n",
              "      <th>mean</th>\n",
              "      <td>1.390773e+06</td>\n",
              "      <td>2.316329e+03</td>\n",
              "      <td>241.291377</td>\n",
              "      <td>1.791364e+03</td>\n",
              "    </tr>\n",
              "    <tr>\n",
              "      <th>std</th>\n",
              "      <td>1.775588e+06</td>\n",
              "      <td>8.355912e+04</td>\n",
              "      <td>7246.571800</td>\n",
              "      <td>9.061262e+04</td>\n",
              "    </tr>\n",
              "    <tr>\n",
              "      <th>min</th>\n",
              "      <td>0.000000e+00</td>\n",
              "      <td>0.000000e+00</td>\n",
              "      <td>0.000000</td>\n",
              "      <td>0.000000e+00</td>\n",
              "    </tr>\n",
              "    <tr>\n",
              "      <th>25%</th>\n",
              "      <td>5.290000e+05</td>\n",
              "      <td>1.000000e+00</td>\n",
              "      <td>65.000000</td>\n",
              "      <td>1.000000e+00</td>\n",
              "    </tr>\n",
              "    <tr>\n",
              "      <th>50%</th>\n",
              "      <td>9.330000e+05</td>\n",
              "      <td>7.530000e+02</td>\n",
              "      <td>108.000000</td>\n",
              "      <td>1.770000e+02</td>\n",
              "    </tr>\n",
              "    <tr>\n",
              "      <th>75%</th>\n",
              "      <td>1.650000e+06</td>\n",
              "      <td>1.500000e+03</td>\n",
              "      <td>170.000000</td>\n",
              "      <td>5.700000e+02</td>\n",
              "    </tr>\n",
              "    <tr>\n",
              "      <th>max</th>\n",
              "      <td>4.590000e+07</td>\n",
              "      <td>1.180000e+07</td>\n",
              "      <td>608608.000000</td>\n",
              "      <td>9.751020e+06</td>\n",
              "    </tr>\n",
              "  </tbody>\n",
              "</table>\n",
              "</div>\n",
              "    <div class=\"colab-df-buttons\">\n",
              "\n",
              "  <div class=\"colab-df-container\">\n",
              "    <button class=\"colab-df-convert\" onclick=\"convertToInteractive('df-b74e8d5d-6043-4eca-9910-89a68cca78cd')\"\n",
              "            title=\"Convert this dataframe to an interactive table.\"\n",
              "            style=\"display:none;\">\n",
              "\n",
              "  <svg xmlns=\"http://www.w3.org/2000/svg\" height=\"24px\" viewBox=\"0 -960 960 960\">\n",
              "    <path d=\"M120-120v-720h720v720H120Zm60-500h600v-160H180v160Zm220 220h160v-160H400v160Zm0 220h160v-160H400v160ZM180-400h160v-160H180v160Zm440 0h160v-160H620v160ZM180-180h160v-160H180v160Zm440 0h160v-160H620v160Z\"/>\n",
              "  </svg>\n",
              "    </button>\n",
              "\n",
              "  <style>\n",
              "    .colab-df-container {\n",
              "      display:flex;\n",
              "      gap: 12px;\n",
              "    }\n",
              "\n",
              "    .colab-df-convert {\n",
              "      background-color: #E8F0FE;\n",
              "      border: none;\n",
              "      border-radius: 50%;\n",
              "      cursor: pointer;\n",
              "      display: none;\n",
              "      fill: #1967D2;\n",
              "      height: 32px;\n",
              "      padding: 0 0 0 0;\n",
              "      width: 32px;\n",
              "    }\n",
              "\n",
              "    .colab-df-convert:hover {\n",
              "      background-color: #E2EBFA;\n",
              "      box-shadow: 0px 1px 2px rgba(60, 64, 67, 0.3), 0px 1px 3px 1px rgba(60, 64, 67, 0.15);\n",
              "      fill: #174EA6;\n",
              "    }\n",
              "\n",
              "    .colab-df-buttons div {\n",
              "      margin-bottom: 4px;\n",
              "    }\n",
              "\n",
              "    [theme=dark] .colab-df-convert {\n",
              "      background-color: #3B4455;\n",
              "      fill: #D2E3FC;\n",
              "    }\n",
              "\n",
              "    [theme=dark] .colab-df-convert:hover {\n",
              "      background-color: #434B5C;\n",
              "      box-shadow: 0px 1px 3px 1px rgba(0, 0, 0, 0.15);\n",
              "      filter: drop-shadow(0px 1px 2px rgba(0, 0, 0, 0.3));\n",
              "      fill: #FFFFFF;\n",
              "    }\n",
              "  </style>\n",
              "\n",
              "    <script>\n",
              "      const buttonEl =\n",
              "        document.querySelector('#df-b74e8d5d-6043-4eca-9910-89a68cca78cd button.colab-df-convert');\n",
              "      buttonEl.style.display =\n",
              "        google.colab.kernel.accessAllowed ? 'block' : 'none';\n",
              "\n",
              "      async function convertToInteractive(key) {\n",
              "        const element = document.querySelector('#df-b74e8d5d-6043-4eca-9910-89a68cca78cd');\n",
              "        const dataTable =\n",
              "          await google.colab.kernel.invokeFunction('convertToInteractive',\n",
              "                                                    [key], {});\n",
              "        if (!dataTable) return;\n",
              "\n",
              "        const docLinkHtml = 'Like what you see? Visit the ' +\n",
              "          '<a target=\"_blank\" href=https://colab.research.google.com/notebooks/data_table.ipynb>data table notebook</a>'\n",
              "          + ' to learn more about interactive tables.';\n",
              "        element.innerHTML = '';\n",
              "        dataTable['output_type'] = 'display_data';\n",
              "        await google.colab.output.renderOutput(dataTable, element);\n",
              "        const docLink = document.createElement('div');\n",
              "        docLink.innerHTML = docLinkHtml;\n",
              "        element.appendChild(docLink);\n",
              "      }\n",
              "    </script>\n",
              "  </div>\n",
              "\n",
              "\n",
              "<div id=\"df-6e5903f5-8dfd-4a86-b1ef-61b0eb2ac1f4\">\n",
              "  <button class=\"colab-df-quickchart\" onclick=\"quickchart('df-6e5903f5-8dfd-4a86-b1ef-61b0eb2ac1f4')\"\n",
              "            title=\"Suggest charts\"\n",
              "            style=\"display:none;\">\n",
              "\n",
              "<svg xmlns=\"http://www.w3.org/2000/svg\" height=\"24px\"viewBox=\"0 0 24 24\"\n",
              "     width=\"24px\">\n",
              "    <g>\n",
              "        <path d=\"M19 3H5c-1.1 0-2 .9-2 2v14c0 1.1.9 2 2 2h14c1.1 0 2-.9 2-2V5c0-1.1-.9-2-2-2zM9 17H7v-7h2v7zm4 0h-2V7h2v10zm4 0h-2v-4h2v4z\"/>\n",
              "    </g>\n",
              "</svg>\n",
              "  </button>\n",
              "\n",
              "<style>\n",
              "  .colab-df-quickchart {\n",
              "      --bg-color: #E8F0FE;\n",
              "      --fill-color: #1967D2;\n",
              "      --hover-bg-color: #E2EBFA;\n",
              "      --hover-fill-color: #174EA6;\n",
              "      --disabled-fill-color: #AAA;\n",
              "      --disabled-bg-color: #DDD;\n",
              "  }\n",
              "\n",
              "  [theme=dark] .colab-df-quickchart {\n",
              "      --bg-color: #3B4455;\n",
              "      --fill-color: #D2E3FC;\n",
              "      --hover-bg-color: #434B5C;\n",
              "      --hover-fill-color: #FFFFFF;\n",
              "      --disabled-bg-color: #3B4455;\n",
              "      --disabled-fill-color: #666;\n",
              "  }\n",
              "\n",
              "  .colab-df-quickchart {\n",
              "    background-color: var(--bg-color);\n",
              "    border: none;\n",
              "    border-radius: 50%;\n",
              "    cursor: pointer;\n",
              "    display: none;\n",
              "    fill: var(--fill-color);\n",
              "    height: 32px;\n",
              "    padding: 0;\n",
              "    width: 32px;\n",
              "  }\n",
              "\n",
              "  .colab-df-quickchart:hover {\n",
              "    background-color: var(--hover-bg-color);\n",
              "    box-shadow: 0 1px 2px rgba(60, 64, 67, 0.3), 0 1px 3px 1px rgba(60, 64, 67, 0.15);\n",
              "    fill: var(--button-hover-fill-color);\n",
              "  }\n",
              "\n",
              "  .colab-df-quickchart-complete:disabled,\n",
              "  .colab-df-quickchart-complete:disabled:hover {\n",
              "    background-color: var(--disabled-bg-color);\n",
              "    fill: var(--disabled-fill-color);\n",
              "    box-shadow: none;\n",
              "  }\n",
              "\n",
              "  .colab-df-spinner {\n",
              "    border: 2px solid var(--fill-color);\n",
              "    border-color: transparent;\n",
              "    border-bottom-color: var(--fill-color);\n",
              "    animation:\n",
              "      spin 1s steps(1) infinite;\n",
              "  }\n",
              "\n",
              "  @keyframes spin {\n",
              "    0% {\n",
              "      border-color: transparent;\n",
              "      border-bottom-color: var(--fill-color);\n",
              "      border-left-color: var(--fill-color);\n",
              "    }\n",
              "    20% {\n",
              "      border-color: transparent;\n",
              "      border-left-color: var(--fill-color);\n",
              "      border-top-color: var(--fill-color);\n",
              "    }\n",
              "    30% {\n",
              "      border-color: transparent;\n",
              "      border-left-color: var(--fill-color);\n",
              "      border-top-color: var(--fill-color);\n",
              "      border-right-color: var(--fill-color);\n",
              "    }\n",
              "    40% {\n",
              "      border-color: transparent;\n",
              "      border-right-color: var(--fill-color);\n",
              "      border-top-color: var(--fill-color);\n",
              "    }\n",
              "    60% {\n",
              "      border-color: transparent;\n",
              "      border-right-color: var(--fill-color);\n",
              "    }\n",
              "    80% {\n",
              "      border-color: transparent;\n",
              "      border-right-color: var(--fill-color);\n",
              "      border-bottom-color: var(--fill-color);\n",
              "    }\n",
              "    90% {\n",
              "      border-color: transparent;\n",
              "      border-bottom-color: var(--fill-color);\n",
              "    }\n",
              "  }\n",
              "</style>\n",
              "\n",
              "  <script>\n",
              "    async function quickchart(key) {\n",
              "      const quickchartButtonEl =\n",
              "        document.querySelector('#' + key + ' button');\n",
              "      quickchartButtonEl.disabled = true;  // To prevent multiple clicks.\n",
              "      quickchartButtonEl.classList.add('colab-df-spinner');\n",
              "      try {\n",
              "        const charts = await google.colab.kernel.invokeFunction(\n",
              "            'suggestCharts', [key], {});\n",
              "      } catch (error) {\n",
              "        console.error('Error during call to suggestCharts:', error);\n",
              "      }\n",
              "      quickchartButtonEl.classList.remove('colab-df-spinner');\n",
              "      quickchartButtonEl.classList.add('colab-df-quickchart-complete');\n",
              "    }\n",
              "    (() => {\n",
              "      let quickchartButtonEl =\n",
              "        document.querySelector('#df-6e5903f5-8dfd-4a86-b1ef-61b0eb2ac1f4 button');\n",
              "      quickchartButtonEl.style.display =\n",
              "        google.colab.kernel.accessAllowed ? 'block' : 'none';\n",
              "    })();\n",
              "  </script>\n",
              "</div>\n",
              "\n",
              "    </div>\n",
              "  </div>\n"
            ],
            "application/vnd.google.colaboratory.intrinsic+json": {
              "type": "dataframe",
              "summary": "{\n  \"name\": \"df[atributos_com_outliers\",\n  \"rows\": 8,\n  \"fields\": [\n    {\n      \"column\": \"price\",\n      \"properties\": {\n        \"dtype\": \"number\",\n        \"std\": 15924577.528452177,\n        \"min\": 0.0,\n        \"max\": 45900000.0,\n        \"num_unique_values\": 8,\n        \"samples\": [\n          1390772.549842557,\n          933000.0,\n          23183.0\n        ],\n        \"semantic_type\": \"\",\n        \"description\": \"\"\n      }\n    },\n    {\n      \"column\": \"condominio\",\n      \"properties\": {\n        \"dtype\": \"number\",\n        \"std\": 4166406.592074226,\n        \"min\": 0.0,\n        \"max\": 11800000.0,\n        \"num_unique_values\": 8,\n        \"samples\": [\n          2316.329379286546,\n          753.0,\n          23183.0\n        ],\n        \"semantic_type\": \"\",\n        \"description\": \"\"\n      }\n    },\n    {\n      \"column\": \"area_util\",\n      \"properties\": {\n        \"dtype\": \"number\",\n        \"std\": 213760.295987485,\n        \"min\": 0.0,\n        \"max\": 608608.0,\n        \"num_unique_values\": 8,\n        \"samples\": [\n          241.29137730233361,\n          108.0,\n          23183.0\n        ],\n        \"semantic_type\": \"\",\n        \"description\": \"\"\n      }\n    },\n    {\n      \"column\": \"iptu\",\n      \"properties\": {\n        \"dtype\": \"number\",\n        \"std\": 3441771.8839944676,\n        \"min\": 0.0,\n        \"max\": 9751020.0,\n        \"num_unique_values\": 8,\n        \"samples\": [\n          1791.3640598714576,\n          177.0,\n          23183.0\n        ],\n        \"semantic_type\": \"\",\n        \"description\": \"\"\n      }\n    }\n  ]\n}"
            }
          },
          "metadata": {},
          "execution_count": 13
        }
      ],
      "source": [
        "df[atributos_com_outliers.keys()].describe()"
      ]
    },
    {
      "cell_type": "code",
      "execution_count": null,
      "metadata": {
        "colab": {
          "base_uri": "https://localhost:8080/",
          "height": 333
        },
        "id": "muNEADk4qy5r",
        "outputId": "eef68652-4814-465f-e3ad-9c5c74840d77"
      },
      "outputs": [
        {
          "output_type": "display_data",
          "data": {
            "text/plain": [
              "<Figure size 500x300 with 1 Axes>"
            ],
            "image/png": "[encoded data removed]"
          },
          "metadata": {}
        }
      ],
      "source": [
        "plt.figure(figsize=(5,3))\n",
        "sns.histplot(data=df['price'],kde=True)\n",
        "plt.title('Price distribution')\n",
        "plt.show()\n"
      ]
    },
    {
      "cell_type": "code",
      "execution_count": null,
      "metadata": {
        "colab": {
          "base_uri": "https://localhost:8080/",
          "height": 615
        },
        "id": "06vAxp55VTzA",
        "outputId": "3dca9e37-08a5-400f-ad87-a7c60a71ac51"
      },
      "outputs": [
        {
          "output_type": "display_data",
          "data": {
            "text/plain": [
              "<Figure size 500x300 with 1 Axes>"
            ],
            "image/png": "[encoded data removed]"
          },
          "metadata": {}
        },
        {
          "output_type": "execute_result",
          "data": {
            "text/plain": [
              "              price    condominio     area_util          iptu\n",
              "count  1.929900e+04  19299.000000  19299.000000  19299.000000\n",
              "mean   9.953415e+05    844.543085    106.997046    242.379502\n",
              "std    6.648031e+05    813.293199     61.201124    308.229327\n",
              "min    1.000000e+00      0.000000      0.000000      0.000000\n",
              "25%    4.650000e+05     40.000000     60.000000      0.000000\n",
              "50%    8.000000e+05    687.000000     94.000000    113.000000\n",
              "75%    1.389900e+06   1300.000000    141.000000    374.000000\n",
              "max    3.330003e+06   3748.000000    327.000000   1420.000000"
            ],
            "text/html": [
              "\n",
              "  <div id=\"df-faebe8cf-fa89-4cb5-905e-9e6266ec3e51\" class=\"colab-df-container\">\n",
              "    <div>\n",
              "<style scoped>\n",
              "    .dataframe tbody tr th:only-of-type {\n",
              "        vertical-align: middle;\n",
              "    }\n",
              "\n",
              "    .dataframe tbody tr th {\n",
              "        vertical-align: top;\n",
              "    }\n",
              "\n",
              "    .dataframe thead th {\n",
              "        text-align: right;\n",
              "    }\n",
              "</style>\n",
              "<table border=\"1\" class=\"dataframe\">\n",
              "  <thead>\n",
              "    <tr style=\"text-align: right;\">\n",
              "      <th></th>\n",
              "      <th>price</th>\n",
              "      <th>condominio</th>\n",
              "      <th>area_util</th>\n",
              "      <th>iptu</th>\n",
              "    </tr>\n",
              "  </thead>\n",
              "  <tbody>\n",
              "    <tr>\n",
              "      <th>count</th>\n",
              "      <td>1.929900e+04</td>\n",
              "      <td>19299.000000</td>\n",
              "      <td>19299.000000</td>\n",
              "      <td>19299.000000</td>\n",
              "    </tr>\n",
              "    <tr>\n",
              "      <th>mean</th>\n",
              "      <td>9.953415e+05</td>\n",
              "      <td>844.543085</td>\n",
              "      <td>106.997046</td>\n",
              "      <td>242.379502</td>\n",
              "    </tr>\n",
              "    <tr>\n",
              "      <th>std</th>\n",
              "      <td>6.648031e+05</td>\n",
              "      <td>813.293199</td>\n",
              "      <td>61.201124</td>\n",
              "      <td>308.229327</td>\n",
              "    </tr>\n",
              "    <tr>\n",
              "      <th>min</th>\n",
              "      <td>1.000000e+00</td>\n",
              "      <td>0.000000</td>\n",
              "      <td>0.000000</td>\n",
              "      <td>0.000000</td>\n",
              "    </tr>\n",
              "    <tr>\n",
              "      <th>25%</th>\n",
              "      <td>4.650000e+05</td>\n",
              "      <td>40.000000</td>\n",
              "      <td>60.000000</td>\n",
              "      <td>0.000000</td>\n",
              "    </tr>\n",
              "    <tr>\n",
              "      <th>50%</th>\n",
              "      <td>8.000000e+05</td>\n",
              "      <td>687.000000</td>\n",
              "      <td>94.000000</td>\n",
              "      <td>113.000000</td>\n",
              "    </tr>\n",
              "    <tr>\n",
              "      <th>75%</th>\n",
              "      <td>1.389900e+06</td>\n",
              "      <td>1300.000000</td>\n",
              "      <td>141.000000</td>\n",
              "      <td>374.000000</td>\n",
              "    </tr>\n",
              "    <tr>\n",
              "      <th>max</th>\n",
              "      <td>3.330003e+06</td>\n",
              "      <td>3748.000000</td>\n",
              "      <td>327.000000</td>\n",
              "      <td>1420.000000</td>\n",
              "    </tr>\n",
              "  </tbody>\n",
              "</table>\n",
              "</div>\n",
              "    <div class=\"colab-df-buttons\">\n",
              "\n",
              "  <div class=\"colab-df-container\">\n",
              "    <button class=\"colab-df-convert\" onclick=\"convertToInteractive('df-faebe8cf-fa89-4cb5-905e-9e6266ec3e51')\"\n",
              "            title=\"Convert this dataframe to an interactive table.\"\n",
              "            style=\"display:none;\">\n",
              "\n",
              "  <svg xmlns=\"http://www.w3.org/2000/svg\" height=\"24px\" viewBox=\"0 -960 960 960\">\n",
              "    <path d=\"M120-120v-720h720v720H120Zm60-500h600v-160H180v160Zm220 220h160v-160H400v160Zm0 220h160v-160H400v160ZM180-400h160v-160H180v160Zm440 0h160v-160H620v160ZM180-180h160v-160H180v160Zm440 0h160v-160H620v160Z\"/>\n",
              "  </svg>\n",
              "    </button>\n",
              "\n",
              "  <style>\n",
              "    .colab-df-container {\n",
              "      display:flex;\n",
              "      gap: 12px;\n",
              "    }\n",
              "\n",
              "    .colab-df-convert {\n",
              "      background-color: #E8F0FE;\n",
              "      border: none;\n",
              "      border-radius: 50%;\n",
              "      cursor: pointer;\n",
              "      display: none;\n",
              "      fill: #1967D2;\n",
              "      height: 32px;\n",
              "      padding: 0 0 0 0;\n",
              "      width: 32px;\n",
              "    }\n",
              "\n",
              "    .colab-df-convert:hover {\n",
              "      background-color: #E2EBFA;\n",
              "      box-shadow: 0px 1px 2px rgba(60, 64, 67, 0.3), 0px 1px 3px 1px rgba(60, 64, 67, 0.15);\n",
              "      fill: #174EA6;\n",
              "    }\n",
              "\n",
              "    .colab-df-buttons div {\n",
              "      margin-bottom: 4px;\n",
              "    }\n",
              "\n",
              "    [theme=dark] .colab-df-convert {\n",
              "      background-color: #3B4455;\n",
              "      fill: #D2E3FC;\n",
              "    }\n",
              "\n",
              "    [theme=dark] .colab-df-convert:hover {\n",
              "      background-color: #434B5C;\n",
              "      box-shadow: 0px 1px 3px 1px rgba(0, 0, 0, 0.15);\n",
              "      filter: drop-shadow(0px 1px 2px rgba(0, 0, 0, 0.3));\n",
              "      fill: #FFFFFF;\n",
              "    }\n",
              "  </style>\n",
              "\n",
              "    <script>\n",
              "      const buttonEl =\n",
              "        document.querySelector('#df-faebe8cf-fa89-4cb5-905e-9e6266ec3e51 button.colab-df-convert');\n",
              "      buttonEl.style.display =\n",
              "        google.colab.kernel.accessAllowed ? 'block' : 'none';\n",
              "\n",
              "      async function convertToInteractive(key) {\n",
              "        const element = document.querySelector('#df-faebe8cf-fa89-4cb5-905e-9e6266ec3e51');\n",
              "        const dataTable =\n",
              "          await google.colab.kernel.invokeFunction('convertToInteractive',\n",
              "                                                    [key], {});\n",
              "        if (!dataTable) return;\n",
              "\n",
              "        const docLinkHtml = 'Like what you see? Visit the ' +\n",
              "          '<a target=\"_blank\" href=https://colab.research.google.com/notebooks/data_table.ipynb>data table notebook</a>'\n",
              "          + ' to learn more about interactive tables.';\n",
              "        element.innerHTML = '';\n",
              "        dataTable['output_type'] = 'display_data';\n",
              "        await google.colab.output.renderOutput(dataTable, element);\n",
              "        const docLink = document.createElement('div');\n",
              "        docLink.innerHTML = docLinkHtml;\n",
              "        element.appendChild(docLink);\n",
              "      }\n",
              "    </script>\n",
              "  </div>\n",
              "\n",
              "\n",
              "<div id=\"df-8c55b817-2c25-4ebf-a9fa-59cb8ce9622c\">\n",
              "  <button class=\"colab-df-quickchart\" onclick=\"quickchart('df-8c55b817-2c25-4ebf-a9fa-59cb8ce9622c')\"\n",
              "            title=\"Suggest charts\"\n",
              "            style=\"display:none;\">\n",
              "\n",
              "<svg xmlns=\"http://www.w3.org/2000/svg\" height=\"24px\"viewBox=\"0 0 24 24\"\n",
              "     width=\"24px\">\n",
              "    <g>\n",
              "        <path d=\"M19 3H5c-1.1 0-2 .9-2 2v14c0 1.1.9 2 2 2h14c1.1 0 2-.9 2-2V5c0-1.1-.9-2-2-2zM9 17H7v-7h2v7zm4 0h-2V7h2v10zm4 0h-2v-4h2v4z\"/>\n",
              "    </g>\n",
              "</svg>\n",
              "  </button>\n",
              "\n",
              "<style>\n",
              "  .colab-df-quickchart {\n",
              "      --bg-color: #E8F0FE;\n",
              "      --fill-color: #1967D2;\n",
              "      --hover-bg-color: #E2EBFA;\n",
              "      --hover-fill-color: #174EA6;\n",
              "      --disabled-fill-color: #AAA;\n",
              "      --disabled-bg-color: #DDD;\n",
              "  }\n",
              "\n",
              "  [theme=dark] .colab-df-quickchart {\n",
              "      --bg-color: #3B4455;\n",
              "      --fill-color: #D2E3FC;\n",
              "      --hover-bg-color: #434B5C;\n",
              "      --hover-fill-color: #FFFFFF;\n",
              "      --disabled-bg-color: #3B4455;\n",
              "      --disabled-fill-color: #666;\n",
              "  }\n",
              "\n",
              "  .colab-df-quickchart {\n",
              "    background-color: var(--bg-color);\n",
              "    border: none;\n",
              "    border-radius: 50%;\n",
              "    cursor: pointer;\n",
              "    display: none;\n",
              "    fill: var(--fill-color);\n",
              "    height: 32px;\n",
              "    padding: 0;\n",
              "    width: 32px;\n",
              "  }\n",
              "\n",
              "  .colab-df-quickchart:hover {\n",
              "    background-color: var(--hover-bg-color);\n",
              "    box-shadow: 0 1px 2px rgba(60, 64, 67, 0.3), 0 1px 3px 1px rgba(60, 64, 67, 0.15);\n",
              "    fill: var(--button-hover-fill-color);\n",
              "  }\n",
              "\n",
              "  .colab-df-quickchart-complete:disabled,\n",
              "  .colab-df-quickchart-complete:disabled:hover {\n",
              "    background-color: var(--disabled-bg-color);\n",
              "    fill: var(--disabled-fill-color);\n",
              "    box-shadow: none;\n",
              "  }\n",
              "\n",
              "  .colab-df-spinner {\n",
              "    border: 2px solid var(--fill-color);\n",
              "    border-color: transparent;\n",
              "    border-bottom-color: var(--fill-color);\n",
              "    animation:\n",
              "      spin 1s steps(1) infinite;\n",
              "  }\n",
              "\n",
              "  @keyframes spin {\n",
              "    0% {\n",
              "      border-color: transparent;\n",
              "      border-bottom-color: var(--fill-color);\n",
              "      border-left-color: var(--fill-color);\n",
              "    }\n",
              "    20% {\n",
              "      border-color: transparent;\n",
              "      border-left-color: var(--fill-color);\n",
              "      border-top-color: var(--fill-color);\n",
              "    }\n",
              "    30% {\n",
              "      border-color: transparent;\n",
              "      border-left-color: var(--fill-color);\n",
              "      border-top-color: var(--fill-color);\n",
              "      border-right-color: var(--fill-color);\n",
              "    }\n",
              "    40% {\n",
              "      border-color: transparent;\n",
              "      border-right-color: var(--fill-color);\n",
              "      border-top-color: var(--fill-color);\n",
              "    }\n",
              "    60% {\n",
              "      border-color: transparent;\n",
              "      border-right-color: var(--fill-color);\n",
              "    }\n",
              "    80% {\n",
              "      border-color: transparent;\n",
              "      border-right-color: var(--fill-color);\n",
              "      border-bottom-color: var(--fill-color);\n",
              "    }\n",
              "    90% {\n",
              "      border-color: transparent;\n",
              "      border-bottom-color: var(--fill-color);\n",
              "    }\n",
              "  }\n",
              "</style>\n",
              "\n",
              "  <script>\n",
              "    async function quickchart(key) {\n",
              "      const quickchartButtonEl =\n",
              "        document.querySelector('#' + key + ' button');\n",
              "      quickchartButtonEl.disabled = true;  // To prevent multiple clicks.\n",
              "      quickchartButtonEl.classList.add('colab-df-spinner');\n",
              "      try {\n",
              "        const charts = await google.colab.kernel.invokeFunction(\n",
              "            'suggestCharts', [key], {});\n",
              "      } catch (error) {\n",
              "        console.error('Error during call to suggestCharts:', error);\n",
              "      }\n",
              "      quickchartButtonEl.classList.remove('colab-df-spinner');\n",
              "      quickchartButtonEl.classList.add('colab-df-quickchart-complete');\n",
              "    }\n",
              "    (() => {\n",
              "      let quickchartButtonEl =\n",
              "        document.querySelector('#df-8c55b817-2c25-4ebf-a9fa-59cb8ce9622c button');\n",
              "      quickchartButtonEl.style.display =\n",
              "        google.colab.kernel.accessAllowed ? 'block' : 'none';\n",
              "    })();\n",
              "  </script>\n",
              "</div>\n",
              "\n",
              "    </div>\n",
              "  </div>\n"
            ],
            "application/vnd.google.colaboratory.intrinsic+json": {
              "type": "dataframe",
              "summary": "{\n  \"name\": \"df[atributos_com_outliers\",\n  \"rows\": 8,\n  \"fields\": [\n    {\n      \"column\": \"price\",\n      \"properties\": {\n        \"dtype\": \"number\",\n        \"std\": 1066853.1359912474,\n        \"min\": 1.0,\n        \"max\": 3330003.0,\n        \"num_unique_values\": 8,\n        \"samples\": [\n          995341.461215607,\n          800000.0,\n          19299.0\n        ],\n        \"semantic_type\": \"\",\n        \"description\": \"\"\n      }\n    },\n    {\n      \"column\": \"condominio\",\n      \"properties\": {\n        \"dtype\": \"number\",\n        \"std\": 6554.314707102569,\n        \"min\": 0.0,\n        \"max\": 19299.0,\n        \"num_unique_values\": 8,\n        \"samples\": [\n          844.5430851339447,\n          687.0,\n          19299.0\n        ],\n        \"semantic_type\": \"\",\n        \"description\": \"\"\n      }\n    },\n    {\n      \"column\": \"area_util\",\n      \"properties\": {\n        \"dtype\": \"number\",\n        \"std\": 6784.0027749368255,\n        \"min\": 0.0,\n        \"max\": 19299.0,\n        \"num_unique_values\": 8,\n        \"samples\": [\n          106.99704647909218,\n          94.0,\n          19299.0\n        ],\n        \"semantic_type\": \"\",\n        \"description\": \"\"\n      }\n    },\n    {\n      \"column\": \"iptu\",\n      \"properties\": {\n        \"dtype\": \"number\",\n        \"std\": 6714.6475886029975,\n        \"min\": 0.0,\n        \"max\": 19299.0,\n        \"num_unique_values\": 7,\n        \"samples\": [\n          19299.0,\n          242.3795015285766,\n          374.0\n        ],\n        \"semantic_type\": \"\",\n        \"description\": \"\"\n      }\n    }\n  ]\n}"
            }
          },
          "metadata": {},
          "execution_count": 15
        }
      ],
      "source": [
        "indices_to_remove = []\n",
        "for atributo, outlier_indices in records_com_outliers.items():\n",
        "  indices_to_remove = indices_to_remove + records_com_outliers[atributo]\n",
        "\n",
        "df = df.drop(list(set(indices_to_remove)))\n",
        "df.reset_index(drop=True, inplace=True)\n",
        "\n",
        "plt.figure(figsize=(5,3))\n",
        "sns.boxplot(data=df[atributos_com_outliers.keys()],orient='h')\n",
        "plt.title('Outliers')\n",
        "plt.show()\n",
        "\n",
        "df[atributos_com_outliers.keys()].describe()"
      ]
    },
    {
      "cell_type": "markdown",
      "source": [
        "# Dados inconsistentes"
      ],
      "metadata": {
        "id": "AmoBdxEqTpVN"
      }
    },
    {
      "cell_type": "code",
      "source": [
        "preco_medio = df['price'].sum() / df['area_util'].sum()\n",
        "\n",
        "print('Imóveis com preço do m2 10x menor que o preço médio = ', len( df[ (df['price'] / df['area_util'] < 0.10*preco_medio) ] ))\n",
        "print('Imóveis com preço menor que R$ 50.000 = ', len( df[ (df['price'] < 50000) ] ))\n",
        "print('Imóveis com menos de 18 m2 = ', len( df[ (df['area_util'] < 20) ] ))\n",
        "\n",
        "print(len(df[ (df['price'] / df['area_util'] < 0.10*preco_medio) | (df['price'] < 50000) | (df['area_util'] < 20) ]))"
      ],
      "metadata": {
        "colab": {
          "base_uri": "https://localhost:8080/"
        },
        "id": "enJ5udF0M4kr",
        "outputId": "db583bbb-f2e2-49ab-80ed-d98f22b7b853"
      },
      "execution_count": null,
      "outputs": [
        {
          "output_type": "stream",
          "name": "stdout",
          "text": [
            "Imóveis com preço do m2 10x menor que o preço médio =  20\n",
            "Imóveis com preço menor que R$ 50.000 =  20\n",
            "Imóveis com menos de 18 m2 =  128\n",
            "148\n"
          ]
        }
      ]
    },
    {
      "cell_type": "code",
      "source": [
        "df = df[ (df['price'] / df['area_util'] >= 0.10*preco_medio) & (df['price'] >= 50000) & (df['area_util'] >= 20) ]"
      ],
      "metadata": {
        "id": "06HJEeU7P85K"
      },
      "execution_count": null,
      "outputs": []
    },
    {
      "cell_type": "markdown",
      "source": [
        "# Price distribution"
      ],
      "metadata": {
        "id": "RHjAmsFQUyu1"
      }
    },
    {
      "cell_type": "code",
      "execution_count": null,
      "metadata": {
        "colab": {
          "base_uri": "https://localhost:8080/",
          "height": 333
        },
        "id": "ZVjKSFJZraP-",
        "outputId": "3a93548e-1a33-4bf7-ffe9-ea1010f9c30d"
      },
      "outputs": [
        {
          "output_type": "display_data",
          "data": {
            "text/plain": [
              "<Figure size 500x300 with 1 Axes>"
            ],
            "image/png": "[encoded data removed]"
          },
          "metadata": {}
        }
      ],
      "source": [
        "plt.figure(figsize=(5,3))\n",
        "sns.histplot(data=df['price'],kde=True)\n",
        "plt.title('Price distribution')\n",
        "plt.show()"
      ]
    },
    {
      "cell_type": "code",
      "execution_count": null,
      "metadata": {
        "colab": {
          "base_uri": "https://localhost:8080/",
          "height": 320
        },
        "id": "UV2-yHpnTt0X",
        "outputId": "50d1d49a-6309-410a-8745-d8e50e21d76a"
      },
      "outputs": [
        {
          "output_type": "execute_result",
          "data": {
            "text/plain": [
              "              price    condominio     area_util       quartos     banheiros  \\\n",
              "count  1.915100e+04  19151.000000  19151.000000  19151.000000  19151.000000   \n",
              "mean   1.001118e+06    850.633126    107.654274      2.473918      2.244008   \n",
              "std    6.637869e+05    813.371174     60.893165      0.845097      1.166655   \n",
              "min    5.100000e+04      0.000000     20.000000      0.000000      1.000000   \n",
              "25%    4.742580e+05     89.500000     60.000000      2.000000      1.000000   \n",
              "50%    8.000000e+05    700.000000     95.000000      3.000000      2.000000   \n",
              "75%    1.390000e+06   1300.000000    142.000000      3.000000      3.000000   \n",
              "max    3.330003e+06   3748.000000    327.000000      5.000000      5.000000   \n",
              "\n",
              "       vagas_na_garagem          iptu      academia      elevador  \\\n",
              "count      19151.000000  19151.000000  19151.000000  19151.000000   \n",
              "mean           1.538666    244.176388      0.217482      0.224845   \n",
              "std            1.063447    308.725808      0.412544      0.417491   \n",
              "min            0.000000      0.000000      0.000000      0.000000   \n",
              "25%            1.000000      0.000000      0.000000      0.000000   \n",
              "50%            1.000000    117.000000      0.000000      0.000000   \n",
              "75%            2.000000    375.000000      0.000000      0.000000   \n",
              "max            5.000000   1420.000000      1.000000      1.000000   \n",
              "\n",
              "       permitido_animais       piscina      portaria  salao_de_festas  \\\n",
              "count       19151.000000  19151.000000  19151.000000     19151.000000   \n",
              "mean            0.355021      0.338886      0.056498         0.404365   \n",
              "std             0.478532      0.473343      0.230888         0.490782   \n",
              "min             0.000000      0.000000      0.000000         0.000000   \n",
              "25%             0.000000      0.000000      0.000000         0.000000   \n",
              "50%             0.000000      0.000000      0.000000         0.000000   \n",
              "75%             1.000000      1.000000      0.000000         1.000000   \n",
              "max             1.000000      1.000000      1.000000         1.000000   \n",
              "\n",
              "       condominio_fechado  seguranca_24h  portao_eletronico   area_murada  \\\n",
              "count        19151.000000   19151.000000       19151.000000  19151.000000   \n",
              "mean             0.102658       0.067673           0.008929      0.000731   \n",
              "std              0.303519       0.251190           0.094073      0.027028   \n",
              "min              0.000000       0.000000           0.000000      0.000000   \n",
              "25%              0.000000       0.000000           0.000000      0.000000   \n",
              "50%              0.000000       0.000000           0.000000      0.000000   \n",
              "75%              0.000000       0.000000           0.000000      0.000000   \n",
              "max              1.000000       1.000000           1.000000      1.000000   \n",
              "\n",
              "       area_de_servico  armarios_na_cozinha  armarios_no_quarto  \\\n",
              "count     19151.000000         19151.000000        19151.000000   \n",
              "mean          0.333873             0.075087            0.022140   \n",
              "std           0.471607             0.263539            0.147142   \n",
              "min           0.000000             0.000000            0.000000   \n",
              "25%           0.000000             0.000000            0.000000   \n",
              "50%           0.000000             0.000000            0.000000   \n",
              "75%           1.000000             0.000000            0.000000   \n",
              "max           1.000000             1.000000            1.000000   \n",
              "\n",
              "       churrasqueira     mobiliado  quarto_de_servico  ar_condicionado  \\\n",
              "count   19151.000000  19151.000000       19151.000000     19151.000000   \n",
              "mean        0.341914      0.087567           0.003394         0.105373   \n",
              "std         0.474363      0.282672           0.058161         0.307042   \n",
              "min         0.000000      0.000000           0.000000         0.000000   \n",
              "25%         0.000000      0.000000           0.000000         0.000000   \n",
              "50%         0.000000      0.000000           0.000000         0.000000   \n",
              "75%         1.000000      0.000000           0.000000         0.000000   \n",
              "max         1.000000      1.000000           1.000000         1.000000   \n",
              "\n",
              "       porteiro_24h       varanda     img_index  \n",
              "count  19151.000000  19151.000000  19151.000000  \n",
              "mean       0.001044      0.201452  11584.918385  \n",
              "std        0.032300      0.401095   6778.337024  \n",
              "min        0.000000      0.000000      1.000000  \n",
              "25%        0.000000      0.000000   5675.500000  \n",
              "50%        0.000000      0.000000  11509.000000  \n",
              "75%        0.000000      0.000000  17450.500000  \n",
              "max        1.000000      1.000000  23432.000000  "
            ],
            "text/html": [
              "\n",
              "  <div id=\"df-4ec319af-804a-462d-adc2-09f3cf9c487d\" class=\"colab-df-container\">\n",
              "    <div>\n",
              "<style scoped>\n",
              "    .dataframe tbody tr th:only-of-type {\n",
              "        vertical-align: middle;\n",
              "    }\n",
              "\n",
              "    .dataframe tbody tr th {\n",
              "        vertical-align: top;\n",
              "    }\n",
              "\n",
              "    .dataframe thead th {\n",
              "        text-align: right;\n",
              "    }\n",
              "</style>\n",
              "<table border=\"1\" class=\"dataframe\">\n",
              "  <thead>\n",
              "    <tr style=\"text-align: right;\">\n",
              "      <th></th>\n",
              "      <th>price</th>\n",
              "      <th>condominio</th>\n",
              "      <th>area_util</th>\n",
              "      <th>quartos</th>\n",
              "      <th>banheiros</th>\n",
              "      <th>vagas_na_garagem</th>\n",
              "      <th>iptu</th>\n",
              "      <th>academia</th>\n",
              "      <th>elevador</th>\n",
              "      <th>permitido_animais</th>\n",
              "      <th>piscina</th>\n",
              "      <th>portaria</th>\n",
              "      <th>salao_de_festas</th>\n",
              "      <th>condominio_fechado</th>\n",
              "      <th>seguranca_24h</th>\n",
              "      <th>portao_eletronico</th>\n",
              "      <th>area_murada</th>\n",
              "      <th>area_de_servico</th>\n",
              "      <th>armarios_na_cozinha</th>\n",
              "      <th>armarios_no_quarto</th>\n",
              "      <th>churrasqueira</th>\n",
              "      <th>mobiliado</th>\n",
              "      <th>quarto_de_servico</th>\n",
              "      <th>ar_condicionado</th>\n",
              "      <th>porteiro_24h</th>\n",
              "      <th>varanda</th>\n",
              "      <th>img_index</th>\n",
              "    </tr>\n",
              "  </thead>\n",
              "  <tbody>\n",
              "    <tr>\n",
              "      <th>count</th>\n",
              "      <td>1.915100e+04</td>\n",
              "      <td>19151.000000</td>\n",
              "      <td>19151.000000</td>\n",
              "      <td>19151.000000</td>\n",
              "      <td>19151.000000</td>\n",
              "      <td>19151.000000</td>\n",
              "      <td>19151.000000</td>\n",
              "      <td>19151.000000</td>\n",
              "      <td>19151.000000</td>\n",
              "      <td>19151.000000</td>\n",
              "      <td>19151.000000</td>\n",
              "      <td>19151.000000</td>\n",
              "      <td>19151.000000</td>\n",
              "      <td>19151.000000</td>\n",
              "      <td>19151.000000</td>\n",
              "      <td>19151.000000</td>\n",
              "      <td>19151.000000</td>\n",
              "      <td>19151.000000</td>\n",
              "      <td>19151.000000</td>\n",
              "      <td>19151.000000</td>\n",
              "      <td>19151.000000</td>\n",
              "      <td>19151.000000</td>\n",
              "      <td>19151.000000</td>\n",
              "      <td>19151.000000</td>\n",
              "      <td>19151.000000</td>\n",
              "      <td>19151.000000</td>\n",
              "      <td>19151.000000</td>\n",
              "    </tr>\n",
              "    <tr>\n",
              "      <th>mean</th>\n",
              "      <td>1.001118e+06</td>\n",
              "      <td>850.633126</td>\n",
              "      <td>107.654274</td>\n",
              "      <td>2.473918</td>\n",
              "      <td>2.244008</td>\n",
              "      <td>1.538666</td>\n",
              "      <td>244.176388</td>\n",
              "      <td>0.217482</td>\n",
              "      <td>0.224845</td>\n",
              "      <td>0.355021</td>\n",
              "      <td>0.338886</td>\n",
              "      <td>0.056498</td>\n",
              "      <td>0.404365</td>\n",
              "      <td>0.102658</td>\n",
              "      <td>0.067673</td>\n",
              "      <td>0.008929</td>\n",
              "      <td>0.000731</td>\n",
              "      <td>0.333873</td>\n",
              "      <td>0.075087</td>\n",
              "      <td>0.022140</td>\n",
              "      <td>0.341914</td>\n",
              "      <td>0.087567</td>\n",
              "      <td>0.003394</td>\n",
              "      <td>0.105373</td>\n",
              "      <td>0.001044</td>\n",
              "      <td>0.201452</td>\n",
              "      <td>11584.918385</td>\n",
              "    </tr>\n",
              "    <tr>\n",
              "      <th>std</th>\n",
              "      <td>6.637869e+05</td>\n",
              "      <td>813.371174</td>\n",
              "      <td>60.893165</td>\n",
              "      <td>0.845097</td>\n",
              "      <td>1.166655</td>\n",
              "      <td>1.063447</td>\n",
              "      <td>308.725808</td>\n",
              "      <td>0.412544</td>\n",
              "      <td>0.417491</td>\n",
              "      <td>0.478532</td>\n",
              "      <td>0.473343</td>\n",
              "      <td>0.230888</td>\n",
              "      <td>0.490782</td>\n",
              "      <td>0.303519</td>\n",
              "      <td>0.251190</td>\n",
              "      <td>0.094073</td>\n",
              "      <td>0.027028</td>\n",
              "      <td>0.471607</td>\n",
              "      <td>0.263539</td>\n",
              "      <td>0.147142</td>\n",
              "      <td>0.474363</td>\n",
              "      <td>0.282672</td>\n",
              "      <td>0.058161</td>\n",
              "      <td>0.307042</td>\n",
              "      <td>0.032300</td>\n",
              "      <td>0.401095</td>\n",
              "      <td>6778.337024</td>\n",
              "    </tr>\n",
              "    <tr>\n",
              "      <th>min</th>\n",
              "      <td>5.100000e+04</td>\n",
              "      <td>0.000000</td>\n",
              "      <td>20.000000</td>\n",
              "      <td>0.000000</td>\n",
              "      <td>1.000000</td>\n",
              "      <td>0.000000</td>\n",
              "      <td>0.000000</td>\n",
              "      <td>0.000000</td>\n",
              "      <td>0.000000</td>\n",
              "      <td>0.000000</td>\n",
              "      <td>0.000000</td>\n",
              "      <td>0.000000</td>\n",
              "      <td>0.000000</td>\n",
              "      <td>0.000000</td>\n",
              "      <td>0.000000</td>\n",
              "      <td>0.000000</td>\n",
              "      <td>0.000000</td>\n",
              "      <td>0.000000</td>\n",
              "      <td>0.000000</td>\n",
              "      <td>0.000000</td>\n",
              "      <td>0.000000</td>\n",
              "      <td>0.000000</td>\n",
              "      <td>0.000000</td>\n",
              "      <td>0.000000</td>\n",
              "      <td>0.000000</td>\n",
              "      <td>0.000000</td>\n",
              "      <td>1.000000</td>\n",
              "    </tr>\n",
              "    <tr>\n",
              "      <th>25%</th>\n",
              "      <td>4.742580e+05</td>\n",
              "      <td>89.500000</td>\n",
              "      <td>60.000000</td>\n",
              "      <td>2.000000</td>\n",
              "      <td>1.000000</td>\n",
              "      <td>1.000000</td>\n",
              "      <td>0.000000</td>\n",
              "      <td>0.000000</td>\n",
              "      <td>0.000000</td>\n",
              "      <td>0.000000</td>\n",
              "      <td>0.000000</td>\n",
              "      <td>0.000000</td>\n",
              "      <td>0.000000</td>\n",
              "      <td>0.000000</td>\n",
              "      <td>0.000000</td>\n",
              "      <td>0.000000</td>\n",
              "      <td>0.000000</td>\n",
              "      <td>0.000000</td>\n",
              "      <td>0.000000</td>\n",
              "      <td>0.000000</td>\n",
              "      <td>0.000000</td>\n",
              "      <td>0.000000</td>\n",
              "      <td>0.000000</td>\n",
              "      <td>0.000000</td>\n",
              "      <td>0.000000</td>\n",
              "      <td>0.000000</td>\n",
              "      <td>5675.500000</td>\n",
              "    </tr>\n",
              "    <tr>\n",
              "      <th>50%</th>\n",
              "      <td>8.000000e+05</td>\n",
              "      <td>700.000000</td>\n",
              "      <td>95.000000</td>\n",
              "      <td>3.000000</td>\n",
              "      <td>2.000000</td>\n",
              "      <td>1.000000</td>\n",
              "      <td>117.000000</td>\n",
              "      <td>0.000000</td>\n",
              "      <td>0.000000</td>\n",
              "      <td>0.000000</td>\n",
              "      <td>0.000000</td>\n",
              "      <td>0.000000</td>\n",
              "      <td>0.000000</td>\n",
              "      <td>0.000000</td>\n",
              "      <td>0.000000</td>\n",
              "      <td>0.000000</td>\n",
              "      <td>0.000000</td>\n",
              "      <td>0.000000</td>\n",
              "      <td>0.000000</td>\n",
              "      <td>0.000000</td>\n",
              "      <td>0.000000</td>\n",
              "      <td>0.000000</td>\n",
              "      <td>0.000000</td>\n",
              "      <td>0.000000</td>\n",
              "      <td>0.000000</td>\n",
              "      <td>0.000000</td>\n",
              "      <td>11509.000000</td>\n",
              "    </tr>\n",
              "    <tr>\n",
              "      <th>75%</th>\n",
              "      <td>1.390000e+06</td>\n",
              "      <td>1300.000000</td>\n",
              "      <td>142.000000</td>\n",
              "      <td>3.000000</td>\n",
              "      <td>3.000000</td>\n",
              "      <td>2.000000</td>\n",
              "      <td>375.000000</td>\n",
              "      <td>0.000000</td>\n",
              "      <td>0.000000</td>\n",
              "      <td>1.000000</td>\n",
              "      <td>1.000000</td>\n",
              "      <td>0.000000</td>\n",
              "      <td>1.000000</td>\n",
              "      <td>0.000000</td>\n",
              "      <td>0.000000</td>\n",
              "      <td>0.000000</td>\n",
              "      <td>0.000000</td>\n",
              "      <td>1.000000</td>\n",
              "      <td>0.000000</td>\n",
              "      <td>0.000000</td>\n",
              "      <td>1.000000</td>\n",
              "      <td>0.000000</td>\n",
              "      <td>0.000000</td>\n",
              "      <td>0.000000</td>\n",
              "      <td>0.000000</td>\n",
              "      <td>0.000000</td>\n",
              "      <td>17450.500000</td>\n",
              "    </tr>\n",
              "    <tr>\n",
              "      <th>max</th>\n",
              "      <td>3.330003e+06</td>\n",
              "      <td>3748.000000</td>\n",
              "      <td>327.000000</td>\n",
              "      <td>5.000000</td>\n",
              "      <td>5.000000</td>\n",
              "      <td>5.000000</td>\n",
              "      <td>1420.000000</td>\n",
              "      <td>1.000000</td>\n",
              "      <td>1.000000</td>\n",
              "      <td>1.000000</td>\n",
              "      <td>1.000000</td>\n",
              "      <td>1.000000</td>\n",
              "      <td>1.000000</td>\n",
              "      <td>1.000000</td>\n",
              "      <td>1.000000</td>\n",
              "      <td>1.000000</td>\n",
              "      <td>1.000000</td>\n",
              "      <td>1.000000</td>\n",
              "      <td>1.000000</td>\n",
              "      <td>1.000000</td>\n",
              "      <td>1.000000</td>\n",
              "      <td>1.000000</td>\n",
              "      <td>1.000000</td>\n",
              "      <td>1.000000</td>\n",
              "      <td>1.000000</td>\n",
              "      <td>1.000000</td>\n",
              "      <td>23432.000000</td>\n",
              "    </tr>\n",
              "  </tbody>\n",
              "</table>\n",
              "</div>\n",
              "    <div class=\"colab-df-buttons\">\n",
              "\n",
              "  <div class=\"colab-df-container\">\n",
              "    <button class=\"colab-df-convert\" onclick=\"convertToInteractive('df-4ec319af-804a-462d-adc2-09f3cf9c487d')\"\n",
              "            title=\"Convert this dataframe to an interactive table.\"\n",
              "            style=\"display:none;\">\n",
              "\n",
              "  <svg xmlns=\"http://www.w3.org/2000/svg\" height=\"24px\" viewBox=\"0 -960 960 960\">\n",
              "    <path d=\"M120-120v-720h720v720H120Zm60-500h600v-160H180v160Zm220 220h160v-160H400v160Zm0 220h160v-160H400v160ZM180-400h160v-160H180v160Zm440 0h160v-160H620v160ZM180-180h160v-160H180v160Zm440 0h160v-160H620v160Z\"/>\n",
              "  </svg>\n",
              "    </button>\n",
              "\n",
              "  <style>\n",
              "    .colab-df-container {\n",
              "      display:flex;\n",
              "      gap: 12px;\n",
              "    }\n",
              "\n",
              "    .colab-df-convert {\n",
              "      background-color: #E8F0FE;\n",
              "      border: none;\n",
              "      border-radius: 50%;\n",
              "      cursor: pointer;\n",
              "      display: none;\n",
              "      fill: #1967D2;\n",
              "      height: 32px;\n",
              "      padding: 0 0 0 0;\n",
              "      width: 32px;\n",
              "    }\n",
              "\n",
              "    .colab-df-convert:hover {\n",
              "      background-color: #E2EBFA;\n",
              "      box-shadow: 0px 1px 2px rgba(60, 64, 67, 0.3), 0px 1px 3px 1px rgba(60, 64, 67, 0.15);\n",
              "      fill: #174EA6;\n",
              "    }\n",
              "\n",
              "    .colab-df-buttons div {\n",
              "      margin-bottom: 4px;\n",
              "    }\n",
              "\n",
              "    [theme=dark] .colab-df-convert {\n",
              "      background-color: #3B4455;\n",
              "      fill: #D2E3FC;\n",
              "    }\n",
              "\n",
              "    [theme=dark] .colab-df-convert:hover {\n",
              "      background-color: #434B5C;\n",
              "      box-shadow: 0px 1px 3px 1px rgba(0, 0, 0, 0.15);\n",
              "      filter: drop-shadow(0px 1px 2px rgba(0, 0, 0, 0.3));\n",
              "      fill: #FFFFFF;\n",
              "    }\n",
              "  </style>\n",
              "\n",
              "    <script>\n",
              "      const buttonEl =\n",
              "        document.querySelector('#df-4ec319af-804a-462d-adc2-09f3cf9c487d button.colab-df-convert');\n",
              "      buttonEl.style.display =\n",
              "        google.colab.kernel.accessAllowed ? 'block' : 'none';\n",
              "\n",
              "      async function convertToInteractive(key) {\n",
              "        const element = document.querySelector('#df-4ec319af-804a-462d-adc2-09f3cf9c487d');\n",
              "        const dataTable =\n",
              "          await google.colab.kernel.invokeFunction('convertToInteractive',\n",
              "                                                    [key], {});\n",
              "        if (!dataTable) return;\n",
              "\n",
              "        const docLinkHtml = 'Like what you see? Visit the ' +\n",
              "          '<a target=\"_blank\" href=https://colab.research.google.com/notebooks/data_table.ipynb>data table notebook</a>'\n",
              "          + ' to learn more about interactive tables.';\n",
              "        element.innerHTML = '';\n",
              "        dataTable['output_type'] = 'display_data';\n",
              "        await google.colab.output.renderOutput(dataTable, element);\n",
              "        const docLink = document.createElement('div');\n",
              "        docLink.innerHTML = docLinkHtml;\n",
              "        element.appendChild(docLink);\n",
              "      }\n",
              "    </script>\n",
              "  </div>\n",
              "\n",
              "\n",
              "<div id=\"df-78890aef-4cd6-4423-b0fd-81b9a3266cff\">\n",
              "  <button class=\"colab-df-quickchart\" onclick=\"quickchart('df-78890aef-4cd6-4423-b0fd-81b9a3266cff')\"\n",
              "            title=\"Suggest charts\"\n",
              "            style=\"display:none;\">\n",
              "\n",
              "<svg xmlns=\"http://www.w3.org/2000/svg\" height=\"24px\"viewBox=\"0 0 24 24\"\n",
              "     width=\"24px\">\n",
              "    <g>\n",
              "        <path d=\"M19 3H5c-1.1 0-2 .9-2 2v14c0 1.1.9 2 2 2h14c1.1 0 2-.9 2-2V5c0-1.1-.9-2-2-2zM9 17H7v-7h2v7zm4 0h-2V7h2v10zm4 0h-2v-4h2v4z\"/>\n",
              "    </g>\n",
              "</svg>\n",
              "  </button>\n",
              "\n",
              "<style>\n",
              "  .colab-df-quickchart {\n",
              "      --bg-color: #E8F0FE;\n",
              "      --fill-color: #1967D2;\n",
              "      --hover-bg-color: #E2EBFA;\n",
              "      --hover-fill-color: #174EA6;\n",
              "      --disabled-fill-color: #AAA;\n",
              "      --disabled-bg-color: #DDD;\n",
              "  }\n",
              "\n",
              "  [theme=dark] .colab-df-quickchart {\n",
              "      --bg-color: #3B4455;\n",
              "      --fill-color: #D2E3FC;\n",
              "      --hover-bg-color: #434B5C;\n",
              "      --hover-fill-color: #FFFFFF;\n",
              "      --disabled-bg-color: #3B4455;\n",
              "      --disabled-fill-color: #666;\n",
              "  }\n",
              "\n",
              "  .colab-df-quickchart {\n",
              "    background-color: var(--bg-color);\n",
              "    border: none;\n",
              "    border-radius: 50%;\n",
              "    cursor: pointer;\n",
              "    display: none;\n",
              "    fill: var(--fill-color);\n",
              "    height: 32px;\n",
              "    padding: 0;\n",
              "    width: 32px;\n",
              "  }\n",
              "\n",
              "  .colab-df-quickchart:hover {\n",
              "    background-color: var(--hover-bg-color);\n",
              "    box-shadow: 0 1px 2px rgba(60, 64, 67, 0.3), 0 1px 3px 1px rgba(60, 64, 67, 0.15);\n",
              "    fill: var(--button-hover-fill-color);\n",
              "  }\n",
              "\n",
              "  .colab-df-quickchart-complete:disabled,\n",
              "  .colab-df-quickchart-complete:disabled:hover {\n",
              "    background-color: var(--disabled-bg-color);\n",
              "    fill: var(--disabled-fill-color);\n",
              "    box-shadow: none;\n",
              "  }\n",
              "\n",
              "  .colab-df-spinner {\n",
              "    border: 2px solid var(--fill-color);\n",
              "    border-color: transparent;\n",
              "    border-bottom-color: var(--fill-color);\n",
              "    animation:\n",
              "      spin 1s steps(1) infinite;\n",
              "  }\n",
              "\n",
              "  @keyframes spin {\n",
              "    0% {\n",
              "      border-color: transparent;\n",
              "      border-bottom-color: var(--fill-color);\n",
              "      border-left-color: var(--fill-color);\n",
              "    }\n",
              "    20% {\n",
              "      border-color: transparent;\n",
              "      border-left-color: var(--fill-color);\n",
              "      border-top-color: var(--fill-color);\n",
              "    }\n",
              "    30% {\n",
              "      border-color: transparent;\n",
              "      border-left-color: var(--fill-color);\n",
              "      border-top-color: var(--fill-color);\n",
              "      border-right-color: var(--fill-color);\n",
              "    }\n",
              "    40% {\n",
              "      border-color: transparent;\n",
              "      border-right-color: var(--fill-color);\n",
              "      border-top-color: var(--fill-color);\n",
              "    }\n",
              "    60% {\n",
              "      border-color: transparent;\n",
              "      border-right-color: var(--fill-color);\n",
              "    }\n",
              "    80% {\n",
              "      border-color: transparent;\n",
              "      border-right-color: var(--fill-color);\n",
              "      border-bottom-color: var(--fill-color);\n",
              "    }\n",
              "    90% {\n",
              "      border-color: transparent;\n",
              "      border-bottom-color: var(--fill-color);\n",
              "    }\n",
              "  }\n",
              "</style>\n",
              "\n",
              "  <script>\n",
              "    async function quickchart(key) {\n",
              "      const quickchartButtonEl =\n",
              "        document.querySelector('#' + key + ' button');\n",
              "      quickchartButtonEl.disabled = true;  // To prevent multiple clicks.\n",
              "      quickchartButtonEl.classList.add('colab-df-spinner');\n",
              "      try {\n",
              "        const charts = await google.colab.kernel.invokeFunction(\n",
              "            'suggestCharts', [key], {});\n",
              "      } catch (error) {\n",
              "        console.error('Error during call to suggestCharts:', error);\n",
              "      }\n",
              "      quickchartButtonEl.classList.remove('colab-df-spinner');\n",
              "      quickchartButtonEl.classList.add('colab-df-quickchart-complete');\n",
              "    }\n",
              "    (() => {\n",
              "      let quickchartButtonEl =\n",
              "        document.querySelector('#df-78890aef-4cd6-4423-b0fd-81b9a3266cff button');\n",
              "      quickchartButtonEl.style.display =\n",
              "        google.colab.kernel.accessAllowed ? 'block' : 'none';\n",
              "    })();\n",
              "  </script>\n",
              "</div>\n",
              "\n",
              "    </div>\n",
              "  </div>\n"
            ],
            "application/vnd.google.colaboratory.intrinsic+json": {
              "type": "dataframe"
            }
          },
          "metadata": {},
          "execution_count": 19
        }
      ],
      "source": [
        "df.describe()"
      ]
    },
    {
      "cell_type": "code",
      "execution_count": null,
      "metadata": {
        "colab": {
          "base_uri": "https://localhost:8080/"
        },
        "id": "BL-BQN6lT3yH",
        "outputId": "a5b43639-29cb-4b2d-f757-a624cd0340a3"
      },
      "outputs": [
        {
          "output_type": "execute_result",
          "data": {
            "text/plain": [
              "(0, 0, 0, 0)"
            ]
          },
          "metadata": {},
          "execution_count": 20
        }
      ],
      "source": [
        "# just check\n",
        "len(df[ df['price'] <= 0 ]), len(df[ df['area_util'] <= 0 ]), len(df[ df['condominio'] < 0 ]), len(df[ df['iptu'] < 0])"
      ]
    },
    {
      "cell_type": "code",
      "execution_count": null,
      "metadata": {
        "colab": {
          "base_uri": "https://localhost:8080/"
        },
        "id": "8wKAekV9zTY_",
        "outputId": "e52dd643-b8be-41ac-edc6-2c6e558d9100"
      },
      "outputs": [
        {
          "output_type": "stream",
          "name": "stdout",
          "text": [
            "% of records cleaning: 18.27%\n",
            "After cleaning, number of records:  19151\n"
          ]
        }
      ],
      "source": [
        "after = len(df)\n",
        "\n",
        "print(f'% of records cleaning: {((before - after)/before * 100):.2f}%')\n",
        "print('After cleaning, number of records: ', after)"
      ]
    },
    {
      "cell_type": "code",
      "source": [
        "df.columns"
      ],
      "metadata": {
        "colab": {
          "base_uri": "https://localhost:8080/"
        },
        "id": "Q4rhbDHDi7bA",
        "outputId": "ab151cc8-5aa2-4330-8f5b-29d26b6923ff"
      },
      "execution_count": null,
      "outputs": [
        {
          "output_type": "execute_result",
          "data": {
            "text/plain": [
              "Index(['title', 'price', 'location', 'date', 'destaque', 'categoria', 'tipo',\n",
              "       'condominio', 'area_util', 'quartos', 'banheiros', 'vagas_na_garagem',\n",
              "       'detalhes_do_imovel', 'detalhes_do_condominio', 'iptu', 'zona',\n",
              "       'academia', 'elevador', 'permitido_animais', 'piscina', 'portaria',\n",
              "       'salao_de_festas', 'condominio_fechado', 'seguranca_24h',\n",
              "       'portao_eletronico', 'area_murada', 'area_de_servico',\n",
              "       'armarios_na_cozinha', 'armarios_no_quarto', 'churrasqueira',\n",
              "       'mobiliado', 'quarto_de_servico', 'ar_condicionado', 'porteiro_24h',\n",
              "       'varanda', 'bairro', 'img_index'],\n",
              "      dtype='object')"
            ]
          },
          "metadata": {},
          "execution_count": 22
        }
      ]
    },
    {
      "cell_type": "code",
      "source": [
        "df.isnull().sum()[ df.isnull().sum()>0 ] / len(df)"
      ],
      "metadata": {
        "colab": {
          "base_uri": "https://localhost:8080/",
          "height": 147
        },
        "id": "9_66FG5SKAqM",
        "outputId": "f1686837-428a-4b72-9c70-b333b3b77ef5"
      },
      "execution_count": null,
      "outputs": [
        {
          "output_type": "execute_result",
          "data": {
            "text/plain": [
              "detalhes_do_imovel        0.309018\n",
              "detalhes_do_condominio    0.306250\n",
              "dtype: float64"
            ],
            "text/html": [
              "<div>\n",
              "<style scoped>\n",
              "    .dataframe tbody tr th:only-of-type {\n",
              "        vertical-align: middle;\n",
              "    }\n",
              "\n",
              "    .dataframe tbody tr th {\n",
              "        vertical-align: top;\n",
              "    }\n",
              "\n",
              "    .dataframe thead th {\n",
              "        text-align: right;\n",
              "    }\n",
              "</style>\n",
              "<table border=\"1\" class=\"dataframe\">\n",
              "  <thead>\n",
              "    <tr style=\"text-align: right;\">\n",
              "      <th></th>\n",
              "      <th>0</th>\n",
              "    </tr>\n",
              "  </thead>\n",
              "  <tbody>\n",
              "    <tr>\n",
              "      <th>detalhes_do_imovel</th>\n",
              "      <td>0.309018</td>\n",
              "    </tr>\n",
              "    <tr>\n",
              "      <th>detalhes_do_condominio</th>\n",
              "      <td>0.306250</td>\n",
              "    </tr>\n",
              "  </tbody>\n",
              "</table>\n",
              "</div><br><label><b>dtype:</b> float64</label>"
            ]
          },
          "metadata": {},
          "execution_count": 23
        }
      ]
    },
    {
      "cell_type": "code",
      "source": [
        "df.to_csv('imoveis_clean.csv', index=False)"
      ],
      "metadata": {
        "id": "ZbHHliMKib_8"
      },
      "execution_count": null,
      "outputs": []
    },
    {
      "cell_type": "code",
      "source": [
        "df_quartos_grouped = df.groupby('quartos').agg({'price': ['mean', 'count'], 'area_util': 'mean'}).reset_index()\n",
        "df_quartos_grouped.columns = ['Nr quartos', 'Preco Medio', 'Quantidade Imoveis', 'Area Media']\n",
        "df_quartos_grouped['Preco Medio'] = (df_quartos_grouped['Preco Medio']).astype(int)\n",
        "df_quartos_grouped['Area Media'] = (df_quartos_grouped['Area Media']).astype(int)\n",
        "# print(df_quartos_grouped)"
      ],
      "metadata": {
        "id": "1Ugov3XDU922"
      },
      "execution_count": null,
      "outputs": []
    },
    {
      "cell_type": "code",
      "source": [
        "df_zona_grouped = df.groupby('zona').agg({'price': ['mean', 'count'], 'area_util': 'mean'}).reset_index()\n",
        "df_zona_grouped.columns = ['Zona', 'Preco Medio', 'Quantidade Imoveis', 'Area Media']\n",
        "df_zona_grouped['Preco Medio'] = (df_zona_grouped['Preco Medio']).astype(int)\n",
        "df_zona_grouped['Area Media'] = (df_zona_grouped['Area Media']).astype(int)\n",
        "# print(df_zona_grouped)"
      ],
      "metadata": {
        "id": "8qDqiiyIZpaY"
      },
      "execution_count": null,
      "outputs": []
    },
    {
      "cell_type": "code",
      "source": [
        "latex_table = gera_df_stats_latex(df_quartos_grouped,'Clean Data - Qqe Dorm')\n",
        "display(Latex(latex_table))"
      ],
      "metadata": {
        "colab": {
          "base_uri": "https://localhost:8080/",
          "height": 180
        },
        "id": "ODGdyD4qXA1l",
        "outputId": "f6d1f056-e197-4307-95c4-e9a3b1c35061"
      },
      "execution_count": null,
      "outputs": [
        {
          "output_type": "display_data",
          "data": {
            "text/plain": [
              "<IPython.core.display.Latex object>"
            ],
            "text/latex": "\\textbf{Clean Data - Qqe Dorm} \\\\\\begin{array}{lrrrr}\n\\hline\n & Nr quartos & Preco Medio & Quantidade Imoveis & Area Media \\\\\n\\hline\n0 & 0 & 702545 & 11 & 126 \\\\\n1 & 1 & 586209 & 2434 & 46 \\\\\n2 & 2 & 723151 & 6989 & 76 \\\\\n3 & 3 & 1245803 & 8071 & 136 \\\\\n4 & 4 & 1644409 & 1477 & 184 \\\\\n5 & 5 & 1183848 & 169 & 204 \\\\\n\\hline\n\\end{array}\n"
          },
          "metadata": {}
        }
      ]
    },
    {
      "cell_type": "code",
      "source": [
        "latex_table = gera_df_stats_latex(df_zona_grouped,'Clean Data - por Zonas')\n",
        "display(Latex(latex_table))"
      ],
      "metadata": {
        "colab": {
          "base_uri": "https://localhost:8080/",
          "height": 215
        },
        "id": "tmvfrqDTaDfJ",
        "outputId": "34a402af-d556-489e-d0ae-c212fe4fdecd"
      },
      "execution_count": null,
      "outputs": [
        {
          "output_type": "stream",
          "name": "stderr",
          "text": [
            "/usr/local/lib/python3.10/dist-packages/ipykernel/ipkernel.py:283: DeprecationWarning: `should_run_async` will not call `transform_cell` automatically in the future. Please pass the result to `transformed_cell` argument and any exception that happen during thetransform in `preprocessing_exc_tuple` in IPython 7.17 and above.\n",
            "  and should_run_async(code)\n"
          ]
        },
        {
          "output_type": "display_data",
          "data": {
            "text/plain": [
              "<IPython.core.display.Latex object>"
            ],
            "text/latex": "\\textbf{Clean Data - por Zonas} \\\\\\begin{array}{llrrr}\n\\hline\n & Zona & Preco Medio & Quantidade Imoveis & Area Media \\\\\n\\hline\n0 & CENTRO & 1107259 & 3917 & 110 \\\\\n1 & LESTE & 770711 & 3907 & 104 \\\\\n2 & NORTE & 677441 & 4067 & 103 \\\\\n3 & OESTE & 1323277 & 3886 & 114 \\\\\n4 & SUL & 1163809 & 3374 & 103 \\\\\n\\hline\n\\end{array}\n"
          },
          "metadata": {}
        }
      ]
    },
    {
      "cell_type": "code",
      "source": [
        "np.random.seed(42)\n",
        "selected_columns = ['price', 'location', 'condominio', 'area_util', 'quartos', 'banheiros', 'vagas_na_garagem', 'iptu', 'academia', 'zona']\n",
        "temp = df.iloc[np.random.choice(df.index, size=5, replace=False)][selected_columns]\n",
        "temp.columns = [col.replace('_', '-') for col in temp.columns]\n",
        "temp['...'] = '...'\n",
        "latex_table = gera_df_stats_latex(temp,'Clean Data - Sample')\n",
        "display(Latex(latex_table))\n",
        "\n",
        "print()\n",
        "pd.options.display.float_format = '{:.0f}'.format\n",
        "temp = df.describe(include='all').iloc[[1,2,3,4,5,6,10]][selected_columns]\n",
        "temp.columns = [col.replace('_', '-') for col in temp.columns]\n",
        "temp['...'] = '...'\n",
        "latex_table = gera_df_stats_latex(temp,'Clean Data - Statistics')\n",
        "display(Latex(latex_table))"
      ],
      "metadata": {
        "colab": {
          "base_uri": "https://localhost:8080/",
          "height": 381
        },
        "id": "0KTZjRP4gj-g",
        "outputId": "9430661c-b39a-4053-d583-897e09b5df50"
      },
      "execution_count": null,
      "outputs": [
        {
          "output_type": "display_data",
          "data": {
            "text/plain": [
              "<IPython.core.display.Latex object>"
            ],
            "text/latex": "\\textbf{Clean Data - Sample} \\\\\\begin{array}{lrlrrrrrrrll}\n\\hline\n & price & location & condominio & area-util & quartos & banheiros & vagas-na-garagem & iptu & academia & zona & ... \\\\\n\\hline\n17282 & 540000 & São Paulo, Bela Vista & 831 & 80 & 2 & 2 & 0 & 110 & 0 & CENTRO & ... \\\\\n2936 & 2700000 & São Paulo, Jardim Paulista & 1760 & 180 & 3 & 2 & 2 & 61 & 0 & SUL & ... \\\\\n350 & 3192212 & São Paulo, Santana & 0 & 224 & 4 & 5 & 4 & 0 & 0 & NORTE & ... \\\\\n1050 & 1829980 & São Paulo, Santa Cecília & 2883 & 234 & 3 & 2 & 2 & 883 & 0 & CENTRO & ... \\\\\n5502 & 393617 & São Paulo, Vila Bancária Munhoz & 220 & 60 & 2 & 2 & 1 & 0 & 0 & NORTE & ... \\\\\n\\hline\n\\end{array}\n"
          },
          "metadata": {}
        },
        {
          "output_type": "stream",
          "name": "stdout",
          "text": [
            "\n"
          ]
        },
        {
          "output_type": "display_data",
          "data": {
            "text/plain": [
              "<IPython.core.display.Latex object>"
            ],
            "text/latex": "\\textbf{Clean Data - Statistics} \\\\\\begin{array}{lrlrrrrrrrll}\n\\hline\n & price & location & condominio & area-util & quartos & banheiros & vagas-na-garagem & iptu & academia & zona & ... \\\\\n\\hline\nunique & NaN & 863 & NaN & NaN & NaN & NaN & NaN & NaN & NaN & 5 & ... \\\\\ntop & NaN & São Paulo, Bela Vista & NaN & NaN & NaN & NaN & NaN & NaN & NaN & NORTE & ... \\\\\nfreq & NaN & 826 & NaN & NaN & NaN & NaN & NaN & NaN & NaN & 4067 & ... \\\\\nmean & 1001117.984909 & NaN & 850.633126 & 107.654274 & 2.473918 & 2.244008 & 1.538666 & 244.176388 & 0.217482 & NaN & ... \\\\\nstd & 663786.888156 & NaN & 813.371174 & 60.893165 & 0.845097 & 1.166655 & 1.063447 & 308.725808 & 0.412544 & NaN & ... \\\\\nmin & 51000.000000 & NaN & 0.000000 & 20.000000 & 0.000000 & 1.000000 & 0.000000 & 0.000000 & 0.000000 & NaN & ... \\\\\nmax & 3330003.000000 & NaN & 3748.000000 & 327.000000 & 5.000000 & 5.000000 & 5.000000 & 1420.000000 & 1.000000 & NaN & ... \\\\\n\\hline\n\\end{array}\n"
          },
          "metadata": {}
        }
      ]
    },
    {
      "cell_type": "code",
      "source": [
        "np.random.seed(42)\n",
        "selected_columns = ['price', 'location', 'condominio', 'area_util', 'quartos', 'img_index']\n",
        "temp = df.iloc[np.random.choice(df.index, size=5, replace=False)][selected_columns]\n",
        "temp.columns = [col.replace('_', '-') for col in temp.columns]\n",
        "temp['...'] = '...'\n",
        "\n",
        "df_imagens_yolo = pd.read_csv(path + 'imoveis_yolo_features.csv')\n",
        "df_imagens_yolo.rename(columns={'img_index':'img-index'}, inplace=True)\n",
        "temp = pd.merge(temp, df_imagens_yolo, on='img-index', how='left')\n",
        "temp = temp.drop(['img-index'], axis=1)\n",
        "temp = temp[temp.columns[0:14]]\n",
        "temp['... '] = '...'\n",
        "\n",
        "latex_table = gera_df_stats_latex(temp,'Records with Yolo detected objects')\n",
        "display(Latex(latex_table))\n"
      ],
      "metadata": {
        "colab": {
          "base_uri": "https://localhost:8080/",
          "height": 160
        },
        "id": "9qD8sUGszDn2",
        "outputId": "0c99338b-37bc-425d-aaf2-b9debd63ba03"
      },
      "execution_count": null,
      "outputs": [
        {
          "output_type": "display_data",
          "data": {
            "text/plain": [
              "<IPython.core.display.Latex object>"
            ],
            "text/latex": "\\textbf{Records with Yolo detected objects} \\\\\\begin{array}{lrlrrrlrrrrrrrrl}\n\\hline\n & price & location & condominio & area-util & quartos & ... & person & bicycle & car & motorcycle & chair & couch & potted plant & bed & ...  \\\\\n\\hline\n0 & 540000 & São Paulo, Bela Vista & 831 & 80 & 2 & ... & 0 & 0 & 0 & 0 & 1 & 0 & 0 & 0 & ... \\\\\n1 & 2700000 & São Paulo, Jardim Paulista & 1760 & 180 & 3 & ... & 1 & 0 & 1 & 0 & 1 & 1 & 1 & 1 & ... \\\\\n2 & 3192212 & São Paulo, Santana & 0 & 224 & 4 & ... & 0 & 1 & 1 & 1 & 1 & 1 & 1 & 1 & ... \\\\\n3 & 1829980 & São Paulo, Santa Cecília & 2883 & 234 & 3 & ... & 0 & 0 & 0 & 0 & 1 & 0 & 1 & 1 & ... \\\\\n4 & 393617 & São Paulo, Vila Bancária Munhoz & 220 & 60 & 2 & ... & 0 & 0 & 0 & 0 & 1 & 1 & 1 & 1 & ... \\\\\n\\hline\n\\end{array}\n"
          },
          "metadata": {}
        }
      ]
    },
    {
      "cell_type": "markdown",
      "source": [
        "# Encodes e exclusões de campos"
      ],
      "metadata": {
        "id": "VIU3eKEPuZKD"
      }
    },
    {
      "cell_type": "code",
      "source": [
        "path = ''\n",
        "df = pd.read_csv(path + 'imoveis_clean.csv')\n",
        "df.head()"
      ],
      "metadata": {
        "id": "U3JqM_GbKRqP"
      },
      "execution_count": null,
      "outputs": []
    },
    {
      "cell_type": "code",
      "source": [
        "df.describe(include='object')"
      ],
      "metadata": {
        "id": "puNQHR3ptogZ"
      },
      "execution_count": null,
      "outputs": []
    },
    {
      "cell_type": "code",
      "source": [
        "df.iloc[np.random.choice(df.index, size=10, replace=False)][['location','bairro']]"
      ],
      "metadata": {
        "id": "zePikgni3e7X"
      },
      "execution_count": null,
      "outputs": []
    },
    {
      "cell_type": "code",
      "source": [
        "# location e bairro, mesma informação, delete\n",
        "df.drop(['bairro'], axis=1, inplace=True)"
      ],
      "metadata": {
        "id": "zn5fDGy74FCW"
      },
      "execution_count": null,
      "outputs": []
    },
    {
      "cell_type": "code",
      "source": [
        "df['date'].min(), df['date'].max()"
      ],
      "metadata": {
        "id": "3hrkjg4P7iNI"
      },
      "execution_count": null,
      "outputs": []
    },
    {
      "cell_type": "code",
      "source": [
        "# não relevante, delete\n",
        "df.drop(['date'], axis=1, inplace=True)"
      ],
      "metadata": {
        "id": "V58QRxyv7t3f"
      },
      "execution_count": null,
      "outputs": []
    },
    {
      "cell_type": "code",
      "source": [
        "df.destaque.value_counts() / len(df)"
      ],
      "metadata": {
        "id": "EGZXHWrp_ZGv"
      },
      "execution_count": null,
      "outputs": []
    },
    {
      "cell_type": "code",
      "source": [
        "# delete, < 0.01%\n",
        "# df.drop(['destaque'], axis=1, inplace=True)\n",
        "# decidimos manter\n",
        "df.destaque = df.destaque.astype(int)"
      ],
      "metadata": {
        "id": "Z_MF6qAKX0bh"
      },
      "execution_count": null,
      "outputs": []
    },
    {
      "cell_type": "code",
      "source": [
        "df.iloc[np.random.choice(df.index, size=10, replace=False)][['tipo','categoria']]"
      ],
      "metadata": {
        "id": "I1T-gWR64Pk2"
      },
      "execution_count": null,
      "outputs": []
    },
    {
      "cell_type": "code",
      "source": [
        "# vamos confirmar que esses campos são diferentes\n",
        "df.iloc[np.random.choice(df.index, size=10, replace=False)][['detalhes_do_imovel' , 'detalhes_do_condominio']]"
      ],
      "metadata": {
        "id": "_WH9V3yQ4goX"
      },
      "execution_count": null,
      "outputs": []
    },
    {
      "cell_type": "code",
      "source": [
        "def extract_terms(df,campo):\n",
        "  \"\"\"\n",
        "  Extracts a list of unique terms from the 'campo' column,\n",
        "  splitting by ',' and removing duplicates.\n",
        "  \"\"\"\n",
        "  all_terms = []\n",
        "  for details in df[campo].fillna(''):  # Handle potential NaNs\n",
        "    terms = details.split(',')\n",
        "    for term in terms:\n",
        "      term = term.strip()\n",
        "      if term:  # Ignore empty strings\n",
        "        all_terms.append(term)\n",
        "\n",
        "  unique_terms = list(set(all_terms))\n",
        "  return unique_terms\n",
        "\n",
        "unique_terms_detalhes_do_imovel = extract_terms(df,'detalhes_do_imovel')\n",
        "print(len(unique_terms_detalhes_do_imovel), unique_terms_detalhes_do_imovel)\n",
        "\n",
        "unique_terms_detalhes_do_condominio = extract_terms(df,'detalhes_do_condominio')\n",
        "print(len(unique_terms_detalhes_do_condominio), unique_terms_detalhes_do_condominio)"
      ],
      "metadata": {
        "id": "aH6ikhxG49k6"
      },
      "execution_count": null,
      "outputs": []
    },
    {
      "cell_type": "code",
      "source": [
        "df.columns"
      ],
      "metadata": {
        "id": "4P3CFTX7_SH4"
      },
      "execution_count": null,
      "outputs": []
    },
    {
      "cell_type": "code",
      "source": [
        "df.tipo.value_counts()"
      ],
      "metadata": {
        "id": "jMEg7DOKAwmH"
      },
      "execution_count": null,
      "outputs": []
    },
    {
      "cell_type": "code",
      "source": [
        "df.categoria.value_counts()"
      ],
      "metadata": {
        "id": "uwkT5sAkA054"
      },
      "execution_count": null,
      "outputs": []
    },
    {
      "cell_type": "code",
      "source": [
        "df.condominio_fechado.value_counts()"
      ],
      "metadata": {
        "id": "qbz1GXhyBDUn"
      },
      "execution_count": null,
      "outputs": []
    },
    {
      "cell_type": "code",
      "source": [
        "set(unique_terms_detalhes_do_imovel) - set(unique_terms_detalhes_do_condominio)"
      ],
      "metadata": {
        "id": "GxMUO8LN5jkY"
      },
      "execution_count": null,
      "outputs": []
    },
    {
      "cell_type": "code",
      "source": [
        "set(unique_terms_detalhes_do_imovel).intersection(set(unique_terms_detalhes_do_condominio))"
      ],
      "metadata": {
        "id": "HbycGPd55s8B"
      },
      "execution_count": null,
      "outputs": []
    },
    {
      "cell_type": "code",
      "source": [
        "# maior parte das informações redundantes\n",
        "df.drop(['detalhes_do_imovel'], axis=1, inplace=True)\n",
        "df.drop(['detalhes_do_condominio'], axis=1, inplace=True)"
      ],
      "metadata": {
        "id": "beJJ15lhBfT_"
      },
      "execution_count": null,
      "outputs": []
    },
    {
      "cell_type": "code",
      "source": [
        "df.describe(include='object')"
      ],
      "metadata": {
        "id": "5ZWl17lp8k3H"
      },
      "execution_count": null,
      "outputs": []
    },
    {
      "cell_type": "markdown",
      "source": [
        "## Hot encode"
      ],
      "metadata": {
        "id": "5I4Wd_SU-Ma4"
      }
    },
    {
      "cell_type": "code",
      "source": [
        "# Create a OneHotEncoder object with drop='first' to avoid multicollinearity\n",
        "enc = OneHotEncoder(handle_unknown='ignore', drop='first')\n",
        "\n",
        "# Fit and transform the 'location', 'categoria', 'tipo', and 'zona' columns\n",
        "encoded_features = enc.fit_transform(df[['categoria', 'tipo', 'zona']])\n",
        "\n",
        "# Convert the sparse matrix to a dense array\n",
        "encoded_features = encoded_features.toarray()\n",
        "\n",
        "# Create a new DataFrame with the encoded features\n",
        "encoded_df = pd.DataFrame(encoded_features, columns=enc.get_feature_names_out(['categoria', 'tipo', 'zona']))\n",
        "\n",
        "# Concatenate the encoded features with the original DataFrame, dropping the original categorical columns\n",
        "df = pd.concat([df.drop(['categoria', 'tipo', 'zona'], axis=1), encoded_df], axis=1)\n"
      ],
      "metadata": {
        "id": "dGJc6-8p83I3"
      },
      "execution_count": null,
      "outputs": []
    },
    {
      "cell_type": "code",
      "source": [
        "df.columns"
      ],
      "metadata": {
        "id": "AJacMCH-9ZoQ"
      },
      "execution_count": null,
      "outputs": []
    },
    {
      "cell_type": "markdown",
      "source": [
        "## Label encode"
      ],
      "metadata": {
        "id": "oJQ_U4yV-R56"
      }
    },
    {
      "cell_type": "code",
      "source": [
        "from sklearn.preprocessing import LabelEncoder\n",
        "\n",
        "# Cria um objeto LabelEncoder\n",
        "le = LabelEncoder()\n",
        "\n",
        "# Ajusta e transforma a coluna 'location'\n",
        "df['location'] = le.fit_transform(df['location'])"
      ],
      "metadata": {
        "id": "NlEkFMTx95pC"
      },
      "execution_count": null,
      "outputs": []
    },
    {
      "cell_type": "code",
      "source": [
        "df.describe(include='object')"
      ],
      "metadata": {
        "id": "2JXJDI75-a_A"
      },
      "execution_count": null,
      "outputs": []
    },
    {
      "cell_type": "code",
      "source": [
        "df.dtypes"
      ],
      "metadata": {
        "id": "YNVKJmqdCgoX"
      },
      "execution_count": null,
      "outputs": []
    },
    {
      "cell_type": "code",
      "source": [
        "df.isnull().sum()[ df.isnull().sum()>0 ] / len(df)"
      ],
      "metadata": {
        "id": "ClKfSRPVK7-_"
      },
      "execution_count": null,
      "outputs": []
    },
    {
      "cell_type": "code",
      "source": [
        "# convert all numeric features to int\n",
        "for column in df.columns:\n",
        "  if df[column].dtype != object:\n",
        "    df[column] = df[column].astype(int)"
      ],
      "metadata": {
        "id": "0CWMouqGCpbv"
      },
      "execution_count": null,
      "outputs": []
    },
    {
      "cell_type": "code",
      "source": [
        "df.to_csv('imoveis_clean_encoded.csv', index=False)"
      ],
      "metadata": {
        "id": "YwbRRHSzGuNH"
      },
      "execution_count": null,
      "outputs": []
    },
    {
      "cell_type": "code",
      "source": [
        "import os\n",
        "from google.colab import files\n",
        "\n",
        "files.download('/content/' + 'imoveis_clean.csv')\n",
        "files.download('/content/' + 'imoveis_clean_encoded.csv')"
      ],
      "metadata": {
        "id": "lsXPlU1ndn53"
      },
      "execution_count": null,
      "outputs": []
    }
  ],
  "metadata": {
    "colab": {
      "collapsed_sections": [
        "dKXSaLPUIvWM"
      ],
      "provenance": [],
      "include_colab_link": true
    },
    "kernelspec": {
      "display_name": "VTCC",
      "language": "python",
      "name": "python3"
    },
    "language_info": {
      "codemirror_mode": {
        "name": "ipython",
        "version": 3
      },
      "file_extension": ".py",
      "mimetype": "text/x-python",
      "name": "python",
      "nbconvert_exporter": "python",
      "pygments_lexer": "ipython3",
      "version": "3.11.9"
    }
  },
  "nbformat": 4,
  "nbformat_minor": 0
}